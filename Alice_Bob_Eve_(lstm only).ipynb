{
  "cells": [
    {
      "cell_type": "markdown",
      "metadata": {
        "id": "view-in-github",
        "colab_type": "text"
      },
      "source": [
        "<a href=\"https://colab.research.google.com/github/soumya-r13/secure-encryption-with-adversarial-neural-cryptography/blob/main/Alice_Bob_Eve_(lstm%20only).ipynb\" target=\"_parent\"><img src=\"https://colab.research.google.com/assets/colab-badge.svg\" alt=\"Open In Colab\"/></a>"
      ]
    },
    {
      "cell_type": "markdown",
      "metadata": {
        "id": "vmKUfcRNWHTr"
      },
      "source": [
        "# Importing the Libraries"
      ]
    },
    {
      "cell_type": "code",
      "execution_count": 1,
      "metadata": {
        "id": "zsDLaenOV2Rj"
      },
      "outputs": [],
      "source": [
        "import tensorflow as tf\n",
        "from tensorflow.keras import layers, models, optimizers, losses\n",
        "import numpy as np\n",
        "import matplotlib.pyplot as plt"
      ]
    },
    {
      "cell_type": "markdown",
      "metadata": {
        "id": "VTJs3mjQWjfW"
      },
      "source": [
        "# Data Generation"
      ]
    },
    {
      "cell_type": "markdown",
      "metadata": {
        "id": "MXC_s1eiWygU"
      },
      "source": [
        "## Defining the function"
      ]
    },
    {
      "cell_type": "code",
      "execution_count": 2,
      "metadata": {
        "id": "TEU6YD4rWnk1"
      },
      "outputs": [],
      "source": [
        "def generate_data(batch_size, seq_length):\n",
        "    messages = np.random.choice([-1, 1], size=(batch_size, seq_length, 1)).astype(np.float32)\n",
        "    keys = np.random.choice([-1, 1], size=(batch_size, seq_length, 1)).astype(np.float32)\n",
        "    return messages, keys"
      ]
    },
    {
      "cell_type": "markdown",
      "metadata": {
        "id": "j5K3lgWjW4to"
      },
      "source": [
        "## Parameters for Data Generation"
      ]
    },
    {
      "cell_type": "code",
      "execution_count": 3,
      "metadata": {
        "id": "cgWtUfUuW-WV"
      },
      "outputs": [],
      "source": [
        "batch_size = 64\n",
        "seq_length = 128\n",
        "train_size = 1000\n",
        "test_size = 200"
      ]
    },
    {
      "cell_type": "markdown",
      "metadata": {
        "id": "CkIOocqiXFgI"
      },
      "source": [
        "## Generating training and testing data"
      ]
    },
    {
      "cell_type": "code",
      "execution_count": 4,
      "metadata": {
        "id": "mSZzQKwnXLyi"
      },
      "outputs": [],
      "source": [
        "train_messages, train_keys = generate_data(train_size, seq_length)\n",
        "test_messages, test_keys = generate_data(test_size, seq_length)"
      ]
    },
    {
      "cell_type": "markdown",
      "metadata": {
        "id": "kCBLZu1wXXEz"
      },
      "source": [
        "# Defining the Neural Networks"
      ]
    },
    {
      "cell_type": "markdown",
      "metadata": {
        "id": "ETblyBNss4rJ"
      },
      "source": [
        "## Alice's Neural Network"
      ]
    },
    {
      "cell_type": "code",
      "execution_count": 5,
      "metadata": {
        "id": "562Pf_kcXk8X"
      },
      "outputs": [],
      "source": [
        "def build_encryption_net():\n",
        "    model = models.Sequential()\n",
        "    model.add(layers.Conv1D(seq_length, 3, padding='same', input_shape=(None, 2)))\n",
        "    model.add(layers.LSTM(64, return_sequences=True))\n",
        "    model.add(layers.LSTM(32, return_sequences=True))\n",
        "    model.add(layers.TimeDistributed(layers.Dense(32, activation='relu')))\n",
        "    model.add(layers.TimeDistributed(layers.Dense(1, activation='sigmoid')))\n",
        "    return model"
      ]
    },
    {
      "cell_type": "markdown",
      "metadata": {
        "id": "IdK_3_6rs9cL"
      },
      "source": [
        "## Bob's Neural Network"
      ]
    },
    {
      "cell_type": "code",
      "execution_count": 6,
      "metadata": {
        "id": "qecQi1_ms_07"
      },
      "outputs": [],
      "source": [
        "def build_decryption_net():\n",
        "    model = models.Sequential()\n",
        "    model.add(layers.Conv1D(seq_length, 3, padding='same', input_shape=(None, 2)))\n",
        "    model.add(layers.LSTM(64, return_sequences=True))\n",
        "    model.add(layers.LSTM(32, return_sequences=True))\n",
        "    model.add(layers.TimeDistributed(layers.Dense(32, activation='relu')))\n",
        "    model.add(layers.TimeDistributed(layers.Dense(1, activation='sigmoid')))\n",
        "    return model"
      ]
    },
    {
      "cell_type": "markdown",
      "metadata": {
        "id": "9sv2Bk7BtA1P"
      },
      "source": [
        "## Eve's Neural Network"
      ]
    },
    {
      "cell_type": "code",
      "execution_count": 7,
      "metadata": {
        "id": "vqvirkYKtDrt"
      },
      "outputs": [],
      "source": [
        "def build_lstm_adversary_net():\n",
        "    model = models.Sequential()\n",
        "    model.add(layers.LSTM(64, return_sequences=True, input_shape=(seq_length, 1)))\n",
        "    model.add(layers.LSTM(32, return_sequences=True))\n",
        "    model.add(layers.TimeDistributed(layers.Dense(1, activation='sigmoid')))\n",
        "    return model\n"
      ]
    },
    {
      "cell_type": "markdown",
      "metadata": {
        "id": "dakrh5wxe-5A"
      },
      "source": [
        "## Loss Functions"
      ]
    },
    {
      "cell_type": "code",
      "execution_count": 8,
      "metadata": {
        "id": "xV0mtS23fIqM"
      },
      "outputs": [],
      "source": [
        "def separation(alice_input, bob_output):\n",
        "    separation_value = tf.reduce_sum(tf.abs(tf.subtract(alice_input, bob_output)), axis=1)\n",
        "    # print(\"separation\", separation_value.numpy())\n",
        "    return separation_value\n",
        "\n",
        "def eve_vs_random_guess(alice_input, eve_output):\n",
        "    loss = tf.square(seq_length/2 - separation(alice_input, eve_output)) / (seq_length/2) ** 2\n",
        "    # print(\"Eve vs random guess loss:\", loss.numpy())\n",
        "    return tf.reduce_mean(loss)\n",
        "\n",
        "def combined_loss_function(alice_input, decipher_bob, eve_output):\n",
        "    loss = separation(alice_input, decipher_bob)/seq_length + eve_vs_random_guess(alice_input, eve_output)\n",
        "    # print(\"Combined loss function:\", loss.numpy())\n",
        "    return tf.reduce_mean(loss)\n",
        "\n",
        "def attacker_loss(alice_input, eve_output):\n",
        "    loss = separation(alice_input, eve_output)\n",
        "    # print(\"Attacker loss:\", loss.numpy())\n",
        "    return tf.reduce_mean(loss)"
      ]
    },
    {
      "cell_type": "markdown",
      "metadata": {
        "id": "UATxS3WYtbEz"
      },
      "source": [
        "## Instantiating and compiling the Neural Networks"
      ]
    },
    {
      "cell_type": "code",
      "execution_count": 9,
      "metadata": {
        "id": "jjdJupnrtdSE"
      },
      "outputs": [],
      "source": [
        "alice = build_encryption_net()\n",
        "bob = build_decryption_net()\n",
        "eve_lstm = build_lstm_adversary_net()"
      ]
    },
    {
      "cell_type": "code",
      "execution_count": 10,
      "metadata": {
        "id": "k-HWLQsQt8XG"
      },
      "outputs": [],
      "source": [
        "optimizer_ab = optimizers.Adam(learning_rate=0.0008)\n",
        "optimizer_e_lstm = optimizers.Adam(learning_rate=0.0008)\n",
        "optimizer_e_cnn_lstm = optimizers.Adam(learning_rate=0.0008)"
      ]
    },
    {
      "cell_type": "markdown",
      "metadata": {
        "id": "11eCTf85ukDp"
      },
      "source": [
        "## Training and Testing"
      ]
    },
    {
      "cell_type": "code",
      "execution_count": 11,
      "metadata": {
        "colab": {
          "base_uri": "https://localhost:8080/"
        },
        "id": "h7kg1Ae6umTK",
        "outputId": "70c05e3d-aaa9-4ff4-b30a-8b0b094bd98c"
      },
      "outputs": [
        {
          "output_type": "stream",
          "name": "stderr",
          "text": [
            "WARNING:tensorflow:5 out of the last 5 calls to <function _BaseOptimizer._update_step_xla at 0x79f9bd768160> triggered tf.function retracing. Tracing is expensive and the excessive number of tracings could be due to (1) creating @tf.function repeatedly in a loop, (2) passing tensors with different shapes, (3) passing Python objects instead of tensors. For (1), please define your @tf.function outside of the loop. For (2), @tf.function has reduce_retracing=True option that can avoid unnecessary retracing. For (3), please refer to https://www.tensorflow.org/guide/function#controlling_retracing and https://www.tensorflow.org/api_docs/python/tf/function for  more details.\n",
            "WARNING:tensorflow:6 out of the last 6 calls to <function _BaseOptimizer._update_step_xla at 0x79f9bd768160> triggered tf.function retracing. Tracing is expensive and the excessive number of tracings could be due to (1) creating @tf.function repeatedly in a loop, (2) passing tensors with different shapes, (3) passing Python objects instead of tensors. For (1), please define your @tf.function outside of the loop. For (2), @tf.function has reduce_retracing=True option that can avoid unnecessary retracing. For (3), please refer to https://www.tensorflow.org/guide/function#controlling_retracing and https://www.tensorflow.org/api_docs/python/tf/function for  more details.\n"
          ]
        },
        {
          "output_type": "stream",
          "name": "stdout",
          "text": [
            "Epoch 1: Loss Alice-Bob: 1.998734951019287,    Loss Eve: 127.76820373535156\n",
            "Epoch 2: Loss Alice-Bob: 1.9987889528274536,    Loss Eve: 127.7603530883789\n",
            "Epoch 3: Loss Alice-Bob: 1.998824954032898,    Loss Eve: 127.75157928466797\n",
            "Epoch 4: Loss Alice-Bob: 1.9988445043563843,    Loss Eve: 127.74166870117188\n",
            "Epoch 5: Loss Alice-Bob: 1.9988473653793335,    Loss Eve: 127.73043823242188\n",
            "Epoch 6: Loss Alice-Bob: 1.9988503456115723,    Loss Eve: 127.71774291992188\n",
            "Epoch 7: Loss Alice-Bob: 1.9988595247268677,    Loss Eve: 127.70343780517578\n",
            "Epoch 8: Loss Alice-Bob: 1.9988746643066406,    Loss Eve: 127.68739318847656\n",
            "Epoch 9: Loss Alice-Bob: 1.9989066123962402,    Loss Eve: 127.66958618164062\n",
            "Epoch 10: Loss Alice-Bob: 1.9989707469940186,    Loss Eve: 127.650146484375\n",
            "Epoch 11: Loss Alice-Bob: 1.9990899562835693,    Loss Eve: 127.62943267822266\n",
            "Epoch 12: Loss Alice-Bob: 1.999293565750122,    Loss Eve: 127.60808563232422\n",
            "Epoch 13: Loss Alice-Bob: 1.999611496925354,    Loss Eve: 127.5871353149414\n",
            "Epoch 14: Loss Alice-Bob: 2.0000617504119873,    Loss Eve: 127.56776428222656\n",
            "Epoch 15: Loss Alice-Bob: 2.0006330013275146,    Loss Eve: 127.55095672607422\n",
            "Epoch 16: Loss Alice-Bob: 2.001282215118408,    Loss Eve: 127.53722381591797\n",
            "Epoch 17: Loss Alice-Bob: 2.0019266605377197,    Loss Eve: 127.52643585205078\n",
            "Epoch 18: Loss Alice-Bob: 2.002476453781128,    Loss Eve: 127.51818084716797\n",
            "Epoch 19: Loss Alice-Bob: 2.0028748512268066,    Loss Eve: 127.51249694824219\n",
            "Epoch 20: Loss Alice-Bob: 2.003098249435425,    Loss Eve: 127.5090103149414\n",
            "Epoch 21: Loss Alice-Bob: 2.003114700317383,    Loss Eve: 127.50666809082031\n",
            "Epoch 22: Loss Alice-Bob: 2.002885103225708,    Loss Eve: 127.50448608398438\n",
            "Epoch 23: Loss Alice-Bob: 2.0023767948150635,    Loss Eve: 127.50201416015625\n",
            "Epoch 24: Loss Alice-Bob: 2.00156569480896,    Loss Eve: 127.49919891357422\n",
            "Epoch 25: Loss Alice-Bob: 2.0004374980926514,    Loss Eve: 127.49606323242188\n",
            "Epoch 26: Loss Alice-Bob: 1.9989835023880005,    Loss Eve: 127.49263000488281\n",
            "Epoch 27: Loss Alice-Bob: 1.9971923828125,    Loss Eve: 127.48884582519531\n",
            "Epoch 28: Loss Alice-Bob: 1.9950246810913086,    Loss Eve: 127.48462677001953\n",
            "Epoch 29: Loss Alice-Bob: 1.9924414157867432,    Loss Eve: 127.47982788085938\n",
            "Epoch 30: Loss Alice-Bob: 1.9894355535507202,    Loss Eve: 127.47427368164062\n",
            "Epoch 31: Loss Alice-Bob: 1.9859832525253296,    Loss Eve: 127.46773529052734\n",
            "Epoch 32: Loss Alice-Bob: 1.9819426536560059,    Loss Eve: 127.4599838256836\n",
            "Epoch 33: Loss Alice-Bob: 1.97710382938385,    Loss Eve: 127.45064544677734\n",
            "Epoch 34: Loss Alice-Bob: 1.9714207649230957,    Loss Eve: 127.43909454345703\n",
            "Epoch 35: Loss Alice-Bob: 1.9648274183273315,    Loss Eve: 127.42414093017578\n",
            "Epoch 36: Loss Alice-Bob: 1.9571161270141602,    Loss Eve: 127.40401458740234\n",
            "Epoch 37: Loss Alice-Bob: 1.9481308460235596,    Loss Eve: 127.37604522705078\n",
            "Epoch 38: Loss Alice-Bob: 1.9378018379211426,    Loss Eve: 127.33674621582031\n",
            "Epoch 39: Loss Alice-Bob: 1.92588210105896,    Loss Eve: 127.2817611694336\n",
            "Epoch 40: Loss Alice-Bob: 1.9120087623596191,    Loss Eve: 127.2057876586914\n",
            "Epoch 41: Loss Alice-Bob: 1.8960641622543335,    Loss Eve: 127.10163116455078\n",
            "Epoch 42: Loss Alice-Bob: 1.8779270648956299,    Loss Eve: 126.9565200805664\n",
            "Epoch 43: Loss Alice-Bob: 1.8575983047485352,    Loss Eve: 126.75848388671875\n",
            "Epoch 44: Loss Alice-Bob: 1.835718035697937,    Loss Eve: 126.51363372802734\n",
            "Epoch 45: Loss Alice-Bob: 1.8132129907608032,    Loss Eve: 126.25215911865234\n",
            "Epoch 46: Loss Alice-Bob: 1.791414499282837,    Loss Eve: 126.00743865966797\n",
            "Epoch 47: Loss Alice-Bob: 1.7712986469268799,    Loss Eve: 125.79651641845703\n",
            "Epoch 48: Loss Alice-Bob: 1.7529387474060059,    Loss Eve: 125.62757110595703\n",
            "Epoch 49: Loss Alice-Bob: 1.7359575033187866,    Loss Eve: 125.48457336425781\n",
            "Epoch 50: Loss Alice-Bob: 1.7200686931610107,    Loss Eve: 125.35204315185547\n",
            "Epoch 51: Loss Alice-Bob: 1.7045700550079346,    Loss Eve: 125.22136688232422\n",
            "Epoch 52: Loss Alice-Bob: 1.6899241209030151,    Loss Eve: 125.09188842773438\n",
            "Epoch 53: Loss Alice-Bob: 1.675862431526184,    Loss Eve: 124.952392578125\n",
            "Epoch 54: Loss Alice-Bob: 1.664463758468628,    Loss Eve: 124.8092269897461\n",
            "Epoch 55: Loss Alice-Bob: 1.6521817445755005,    Loss Eve: 124.64422607421875\n",
            "Epoch 56: Loss Alice-Bob: 1.6388130187988281,    Loss Eve: 124.47660827636719\n",
            "Epoch 57: Loss Alice-Bob: 1.6284127235412598,    Loss Eve: 124.30432891845703\n",
            "Epoch 58: Loss Alice-Bob: 1.6178547143936157,    Loss Eve: 124.1279296875\n",
            "Epoch 59: Loss Alice-Bob: 1.6050124168395996,    Loss Eve: 123.94432830810547\n",
            "Epoch 60: Loss Alice-Bob: 1.5951027870178223,    Loss Eve: 123.75360107421875\n",
            "Epoch 61: Loss Alice-Bob: 1.5839711427688599,    Loss Eve: 123.55624389648438\n",
            "Epoch 62: Loss Alice-Bob: 1.572037935256958,    Loss Eve: 123.3310775756836\n",
            "Epoch 63: Loss Alice-Bob: 1.5592520236968994,    Loss Eve: 123.09991455078125\n",
            "Epoch 64: Loss Alice-Bob: 1.547032356262207,    Loss Eve: 122.85427856445312\n",
            "Epoch 65: Loss Alice-Bob: 1.539841890335083,    Loss Eve: 122.58979797363281\n",
            "Epoch 66: Loss Alice-Bob: 1.5312423706054688,    Loss Eve: 122.32003784179688\n",
            "Epoch 67: Loss Alice-Bob: 1.5123083591461182,    Loss Eve: 122.0542984008789\n",
            "Epoch 68: Loss Alice-Bob: 1.5031667947769165,    Loss Eve: 121.73786163330078\n",
            "Epoch 69: Loss Alice-Bob: 1.4860398769378662,    Loss Eve: 121.3532485961914\n",
            "Epoch 70: Loss Alice-Bob: 1.4721375703811646,    Loss Eve: 120.93540954589844\n",
            "Epoch 71: Loss Alice-Bob: 1.4601681232452393,    Loss Eve: 120.46540832519531\n",
            "Epoch 72: Loss Alice-Bob: 1.437424898147583,    Loss Eve: 119.99808502197266\n",
            "Epoch 73: Loss Alice-Bob: 1.4222595691680908,    Loss Eve: 119.44488525390625\n",
            "Epoch 74: Loss Alice-Bob: 1.3982897996902466,    Loss Eve: 118.80215454101562\n",
            "Epoch 75: Loss Alice-Bob: 1.3765472173690796,    Loss Eve: 117.95020294189453\n",
            "Epoch 76: Loss Alice-Bob: 1.3543179035186768,    Loss Eve: 117.21134948730469\n",
            "Epoch 77: Loss Alice-Bob: 1.3319635391235352,    Loss Eve: 116.49908447265625\n",
            "Epoch 78: Loss Alice-Bob: 1.3044297695159912,    Loss Eve: 115.47538757324219\n",
            "Epoch 79: Loss Alice-Bob: 1.287764310836792,    Loss Eve: 114.8555679321289\n",
            "Epoch 80: Loss Alice-Bob: 1.2617104053497314,    Loss Eve: 113.72035217285156\n",
            "Epoch 81: Loss Alice-Bob: 1.2373449802398682,    Loss Eve: 112.78303527832031\n",
            "Epoch 82: Loss Alice-Bob: 1.2086589336395264,    Loss Eve: 111.77474975585938\n",
            "Epoch 83: Loss Alice-Bob: 1.188165307044983,    Loss Eve: 110.82516479492188\n",
            "Epoch 84: Loss Alice-Bob: 1.1589162349700928,    Loss Eve: 109.69795227050781\n",
            "Epoch 85: Loss Alice-Bob: 1.1333190202713013,    Loss Eve: 108.68769836425781\n",
            "Epoch 86: Loss Alice-Bob: 1.1058683395385742,    Loss Eve: 107.50902557373047\n",
            "Epoch 87: Loss Alice-Bob: 1.0794415473937988,    Loss Eve: 106.4528579711914\n",
            "Epoch 88: Loss Alice-Bob: 1.0530314445495605,    Loss Eve: 105.3393325805664\n",
            "Epoch 89: Loss Alice-Bob: 1.0283557176589966,    Loss Eve: 104.24121856689453\n",
            "Epoch 90: Loss Alice-Bob: 1.0012515783309937,    Loss Eve: 102.9953842163086\n",
            "Epoch 91: Loss Alice-Bob: 0.9775924682617188,    Loss Eve: 101.91766357421875\n",
            "Epoch 92: Loss Alice-Bob: 0.9507869482040405,    Loss Eve: 100.72461700439453\n",
            "Epoch 93: Loss Alice-Bob: 0.9270796179771423,    Loss Eve: 99.5832748413086\n",
            "Epoch 94: Loss Alice-Bob: 0.9020763635635376,    Loss Eve: 98.44237518310547\n",
            "Epoch 95: Loss Alice-Bob: 0.8770092129707336,    Loss Eve: 97.0422592163086\n",
            "Epoch 96: Loss Alice-Bob: 0.8544247150421143,    Loss Eve: 95.92354583740234\n",
            "Epoch 97: Loss Alice-Bob: 0.8354849815368652,    Loss Eve: 94.77017211914062\n",
            "Epoch 98: Loss Alice-Bob: 0.8131809234619141,    Loss Eve: 94.02503967285156\n",
            "Epoch 99: Loss Alice-Bob: 0.7810537815093994,    Loss Eve: 91.97883605957031\n",
            "Epoch 100: Loss Alice-Bob: 0.7599942088127136,    Loss Eve: 90.81849670410156\n",
            "Epoch 101: Loss Alice-Bob: 0.7404117584228516,    Loss Eve: 89.6982421875\n",
            "Epoch 102: Loss Alice-Bob: 0.710945725440979,    Loss Eve: 87.9521713256836\n",
            "Epoch 103: Loss Alice-Bob: 0.6804518103599548,    Loss Eve: 86.66249084472656\n",
            "Epoch 104: Loss Alice-Bob: 0.6494342684745789,    Loss Eve: 85.02625274658203\n",
            "Epoch 105: Loss Alice-Bob: 0.6269624829292297,    Loss Eve: 83.65074920654297\n",
            "Epoch 106: Loss Alice-Bob: 0.6048887372016907,    Loss Eve: 82.33883666992188\n",
            "Epoch 107: Loss Alice-Bob: 0.5931174159049988,    Loss Eve: 81.23097229003906\n",
            "Epoch 108: Loss Alice-Bob: 0.5813055634498596,    Loss Eve: 79.98973846435547\n",
            "Epoch 109: Loss Alice-Bob: 0.5699999332427979,    Loss Eve: 78.76879119873047\n",
            "Epoch 110: Loss Alice-Bob: 0.5600093603134155,    Loss Eve: 77.45516204833984\n",
            "Epoch 111: Loss Alice-Bob: 0.5529900193214417,    Loss Eve: 76.42059326171875\n",
            "Epoch 112: Loss Alice-Bob: 0.5473024845123291,    Loss Eve: 75.53155517578125\n",
            "Epoch 113: Loss Alice-Bob: 0.5424647927284241,    Loss Eve: 74.74554443359375\n",
            "Epoch 114: Loss Alice-Bob: 0.5389730334281921,    Loss Eve: 74.1612319946289\n",
            "Epoch 115: Loss Alice-Bob: 0.5361462235450745,    Loss Eve: 73.64675903320312\n",
            "Epoch 116: Loss Alice-Bob: 0.533694326877594,    Loss Eve: 73.15071105957031\n",
            "Epoch 117: Loss Alice-Bob: 0.5317392349243164,    Loss Eve: 72.7282485961914\n",
            "Epoch 118: Loss Alice-Bob: 0.529992401599884,    Loss Eve: 72.34345245361328\n",
            "Epoch 119: Loss Alice-Bob: 0.5282185673713684,    Loss Eve: 71.94823455810547\n",
            "Epoch 120: Loss Alice-Bob: 0.5265873074531555,    Loss Eve: 71.57539367675781\n",
            "Epoch 121: Loss Alice-Bob: 0.5252044200897217,    Loss Eve: 71.24150085449219\n",
            "Epoch 122: Loss Alice-Bob: 0.523983895778656,    Loss Eve: 70.91844940185547\n",
            "Epoch 123: Loss Alice-Bob: 0.522909939289093,    Loss Eve: 70.60784912109375\n",
            "Epoch 124: Loss Alice-Bob: 0.5220094919204712,    Loss Eve: 70.3339614868164\n",
            "Epoch 125: Loss Alice-Bob: 0.5212053060531616,    Loss Eve: 70.08885955810547\n",
            "Epoch 126: Loss Alice-Bob: 0.5204155445098877,    Loss Eve: 69.85218048095703\n",
            "Epoch 127: Loss Alice-Bob: 0.5196739435195923,    Loss Eve: 69.63111877441406\n",
            "Epoch 128: Loss Alice-Bob: 0.519034206867218,    Loss Eve: 69.43734741210938\n",
            "Epoch 129: Loss Alice-Bob: 0.5184785723686218,    Loss Eve: 69.2596664428711\n",
            "Epoch 130: Loss Alice-Bob: 0.5179734230041504,    Loss Eve: 69.08590698242188\n",
            "Epoch 131: Loss Alice-Bob: 0.5175181031227112,    Loss Eve: 68.9212417602539\n",
            "Epoch 132: Loss Alice-Bob: 0.5171034932136536,    Loss Eve: 68.76985168457031\n",
            "Epoch 133: Loss Alice-Bob: 0.5167006850242615,    Loss Eve: 68.62493133544922\n",
            "Epoch 134: Loss Alice-Bob: 0.5163029432296753,    Loss Eve: 68.4838638305664\n",
            "Epoch 135: Loss Alice-Bob: 0.5159305334091187,    Loss Eve: 68.35221862792969\n",
            "Epoch 136: Loss Alice-Bob: 0.5155946016311646,    Loss Eve: 68.23117065429688\n",
            "Epoch 137: Loss Alice-Bob: 0.5152897238731384,    Loss Eve: 68.11558532714844\n",
            "Epoch 138: Loss Alice-Bob: 0.515011191368103,    Loss Eve: 68.0035629272461\n",
            "Epoch 139: Loss Alice-Bob: 0.5147591233253479,    Loss Eve: 67.8980941772461\n",
            "Epoch 140: Loss Alice-Bob: 0.5145276784896851,    Loss Eve: 67.80037689208984\n",
            "Epoch 141: Loss Alice-Bob: 0.5143064856529236,    Loss Eve: 67.7079849243164\n",
            "Epoch 142: Loss Alice-Bob: 0.5140911936759949,    Loss Eve: 67.61932373046875\n",
            "Epoch 143: Loss Alice-Bob: 0.5138856768608093,    Loss Eve: 67.53528594970703\n",
            "Epoch 144: Loss Alice-Bob: 0.5136948227882385,    Loss Eve: 67.4565200805664\n",
            "Epoch 145: Loss Alice-Bob: 0.5135197043418884,    Loss Eve: 67.38180541992188\n",
            "Epoch 146: Loss Alice-Bob: 0.5133587121963501,    Loss Eve: 67.30970764160156\n",
            "Epoch 147: Loss Alice-Bob: 0.5132102370262146,    Loss Eve: 67.2403564453125\n",
            "Epoch 148: Loss Alice-Bob: 0.5130719542503357,    Loss Eve: 67.17451477050781\n",
            "Epoch 149: Loss Alice-Bob: 0.5129402279853821,    Loss Eve: 67.11203002929688\n",
            "Epoch 150: Loss Alice-Bob: 0.5128111839294434,    Loss Eve: 67.05205535888672\n",
            "Epoch 151: Loss Alice-Bob: 0.5126838684082031,    Loss Eve: 66.99411010742188\n",
            "Epoch 152: Loss Alice-Bob: 0.512559711933136,    Loss Eve: 66.93849182128906\n",
            "Epoch 153: Loss Alice-Bob: 0.5124407410621643,    Loss Eve: 66.88542175292969\n",
            "Epoch 154: Loss Alice-Bob: 0.512328028678894,    Loss Eve: 66.83464050292969\n",
            "Epoch 155: Loss Alice-Bob: 0.5122213363647461,    Loss Eve: 66.78565979003906\n",
            "Epoch 156: Loss Alice-Bob: 0.5121200084686279,    Loss Eve: 66.73832702636719\n",
            "Epoch 157: Loss Alice-Bob: 0.5120227336883545,    Loss Eve: 66.69281768798828\n",
            "Epoch 158: Loss Alice-Bob: 0.5119283199310303,    Loss Eve: 66.6491470336914\n",
            "Epoch 159: Loss Alice-Bob: 0.5118350386619568,    Loss Eve: 66.60704803466797\n",
            "Epoch 160: Loss Alice-Bob: 0.511742115020752,    Loss Eve: 66.56622314453125\n",
            "Epoch 161: Loss Alice-Bob: 0.5116497278213501,    Loss Eve: 66.52664947509766\n",
            "Epoch 162: Loss Alice-Bob: 0.5115588903427124,    Loss Eve: 66.48841094970703\n",
            "Epoch 163: Loss Alice-Bob: 0.5114701986312866,    Loss Eve: 66.45150756835938\n",
            "Epoch 164: Loss Alice-Bob: 0.5113842487335205,    Loss Eve: 66.41577911376953\n",
            "Epoch 165: Loss Alice-Bob: 0.5113009810447693,    Loss Eve: 66.38107299804688\n",
            "Epoch 166: Loss Alice-Bob: 0.5112200379371643,    Loss Eve: 66.34735870361328\n",
            "Epoch 167: Loss Alice-Bob: 0.5111409425735474,    Loss Eve: 66.3146743774414\n",
            "Epoch 168: Loss Alice-Bob: 0.5110630989074707,    Loss Eve: 66.28298950195312\n",
            "Epoch 169: Loss Alice-Bob: 0.5109859704971313,    Loss Eve: 66.25223541259766\n",
            "Epoch 170: Loss Alice-Bob: 0.5109093189239502,    Loss Eve: 66.22229766845703\n",
            "Epoch 171: Loss Alice-Bob: 0.5108331441879272,    Loss Eve: 66.19316101074219\n",
            "Epoch 172: Loss Alice-Bob: 0.510758101940155,    Loss Eve: 66.16485595703125\n",
            "Epoch 173: Loss Alice-Bob: 0.5106842517852783,    Loss Eve: 66.13733673095703\n",
            "Epoch 174: Loss Alice-Bob: 0.5106120109558105,    Loss Eve: 66.11056518554688\n",
            "Epoch 175: Loss Alice-Bob: 0.510541558265686,    Loss Eve: 66.08446502685547\n",
            "Epoch 176: Loss Alice-Bob: 0.5104725360870361,    Loss Eve: 66.05900573730469\n",
            "Epoch 177: Loss Alice-Bob: 0.5104050040245056,    Loss Eve: 66.03417205810547\n",
            "Epoch 178: Loss Alice-Bob: 0.510338306427002,    Loss Eve: 66.00994873046875\n",
            "Epoch 179: Loss Alice-Bob: 0.5102723836898804,    Loss Eve: 65.98629760742188\n",
            "Epoch 180: Loss Alice-Bob: 0.5102069973945618,    Loss Eve: 65.96318054199219\n",
            "Epoch 181: Loss Alice-Bob: 0.5101420283317566,    Loss Eve: 65.94056701660156\n",
            "Epoch 182: Loss Alice-Bob: 0.5100776553153992,    Loss Eve: 65.91845703125\n",
            "Epoch 183: Loss Alice-Bob: 0.5100140571594238,    Loss Eve: 65.89684295654297\n",
            "Epoch 184: Loss Alice-Bob: 0.5099515318870544,    Loss Eve: 65.87569427490234\n",
            "Epoch 185: Loss Alice-Bob: 0.5098901987075806,    Loss Eve: 65.8550033569336\n",
            "Epoch 186: Loss Alice-Bob: 0.5098302960395813,    Loss Eve: 65.8347396850586\n",
            "Epoch 187: Loss Alice-Bob: 0.5097715258598328,    Loss Eve: 65.81489562988281\n",
            "Epoch 188: Loss Alice-Bob: 0.5097140669822693,    Loss Eve: 65.79545593261719\n",
            "Epoch 189: Loss Alice-Bob: 0.5096579194068909,    Loss Eve: 65.77642822265625\n",
            "Epoch 190: Loss Alice-Bob: 0.5096029043197632,    Loss Eve: 65.75778198242188\n",
            "Epoch 191: Loss Alice-Bob: 0.509549081325531,    Loss Eve: 65.73949432373047\n",
            "Epoch 192: Loss Alice-Bob: 0.5094963908195496,    Loss Eve: 65.72158813476562\n",
            "Epoch 193: Loss Alice-Bob: 0.5094450116157532,    Loss Eve: 65.70403289794922\n",
            "Epoch 194: Loss Alice-Bob: 0.5093948245048523,    Loss Eve: 65.68681335449219\n",
            "Epoch 195: Loss Alice-Bob: 0.5093461275100708,    Loss Eve: 65.66992950439453\n",
            "Epoch 196: Loss Alice-Bob: 0.5092989206314087,    Loss Eve: 65.65338134765625\n",
            "Epoch 197: Loss Alice-Bob: 0.5092530250549316,    Loss Eve: 65.63713073730469\n",
            "Epoch 198: Loss Alice-Bob: 0.5092086791992188,    Loss Eve: 65.62118530273438\n",
            "Epoch 199: Loss Alice-Bob: 0.5091657638549805,    Loss Eve: 65.60553741455078\n",
            "Epoch 200: Loss Alice-Bob: 0.5091239809989929,    Loss Eve: 65.5901870727539\n",
            "Epoch 201: Loss Alice-Bob: 0.5090833902359009,    Loss Eve: 65.57510375976562\n",
            "Epoch 202: Loss Alice-Bob: 0.5090439319610596,    Loss Eve: 65.56029510498047\n",
            "Epoch 203: Loss Alice-Bob: 0.5090054869651794,    Loss Eve: 65.54574584960938\n",
            "Epoch 204: Loss Alice-Bob: 0.5089679956436157,    Loss Eve: 65.53144836425781\n",
            "Epoch 205: Loss Alice-Bob: 0.5089316368103027,    Loss Eve: 65.51738739013672\n",
            "Epoch 206: Loss Alice-Bob: 0.5088962316513062,    Loss Eve: 65.50357055664062\n",
            "Epoch 207: Loss Alice-Bob: 0.5088618397712708,    Loss Eve: 65.48998260498047\n",
            "Epoch 208: Loss Alice-Bob: 0.5088285207748413,    Loss Eve: 65.47663116455078\n",
            "Epoch 209: Loss Alice-Bob: 0.508796215057373,    Loss Eve: 65.46349334716797\n",
            "Epoch 210: Loss Alice-Bob: 0.5087646842002869,    Loss Eve: 65.45056915283203\n",
            "Epoch 211: Loss Alice-Bob: 0.5087341070175171,    Loss Eve: 65.4378433227539\n",
            "Epoch 212: Loss Alice-Bob: 0.5087042450904846,    Loss Eve: 65.42532348632812\n",
            "Epoch 213: Loss Alice-Bob: 0.5086749792098999,    Loss Eve: 65.41299438476562\n",
            "Epoch 214: Loss Alice-Bob: 0.5086463689804077,    Loss Eve: 65.40084838867188\n",
            "Epoch 215: Loss Alice-Bob: 0.5086184740066528,    Loss Eve: 65.3888931274414\n",
            "Epoch 216: Loss Alice-Bob: 0.5085910558700562,    Loss Eve: 65.37712097167969\n",
            "Epoch 217: Loss Alice-Bob: 0.5085642337799072,    Loss Eve: 65.36550903320312\n",
            "Epoch 218: Loss Alice-Bob: 0.5085378289222717,    Loss Eve: 65.35408020019531\n",
            "Epoch 219: Loss Alice-Bob: 0.5085118412971497,    Loss Eve: 65.34281158447266\n",
            "Epoch 220: Loss Alice-Bob: 0.508486270904541,    Loss Eve: 65.33169555664062\n",
            "Epoch 221: Loss Alice-Bob: 0.5084612369537354,    Loss Eve: 65.32073974609375\n",
            "Epoch 222: Loss Alice-Bob: 0.5084365606307983,    Loss Eve: 65.30994415283203\n",
            "Epoch 223: Loss Alice-Bob: 0.50841224193573,    Loss Eve: 65.2992935180664\n",
            "Epoch 224: Loss Alice-Bob: 0.508388340473175,    Loss Eve: 65.28877258300781\n",
            "Epoch 225: Loss Alice-Bob: 0.5083646178245544,    Loss Eve: 65.27841186523438\n",
            "Epoch 226: Loss Alice-Bob: 0.5083411931991577,    Loss Eve: 65.26818084716797\n",
            "Epoch 227: Loss Alice-Bob: 0.5083179473876953,    Loss Eve: 65.25809478759766\n",
            "Epoch 228: Loss Alice-Bob: 0.5082948803901672,    Loss Eve: 65.24813079833984\n",
            "Epoch 229: Loss Alice-Bob: 0.5082721710205078,    Loss Eve: 65.2383041381836\n",
            "Epoch 230: Loss Alice-Bob: 0.5082494616508484,    Loss Eve: 65.22859191894531\n",
            "Epoch 231: Loss Alice-Bob: 0.5082269310951233,    Loss Eve: 65.2190170288086\n",
            "Epoch 232: Loss Alice-Bob: 0.5082045197486877,    Loss Eve: 65.2095718383789\n",
            "Epoch 233: Loss Alice-Bob: 0.5081822276115417,    Loss Eve: 65.2002182006836\n",
            "Epoch 234: Loss Alice-Bob: 0.5081601142883301,    Loss Eve: 65.19100189208984\n",
            "Epoch 235: Loss Alice-Bob: 0.508138120174408,    Loss Eve: 65.18189239501953\n",
            "Epoch 236: Loss Alice-Bob: 0.5081161260604858,    Loss Eve: 65.17289733886719\n",
            "Epoch 237: Loss Alice-Bob: 0.5080943703651428,    Loss Eve: 65.16401672363281\n",
            "Epoch 238: Loss Alice-Bob: 0.5080724954605103,    Loss Eve: 65.15524291992188\n",
            "Epoch 239: Loss Alice-Bob: 0.5080506801605225,    Loss Eve: 65.14657592773438\n",
            "Epoch 240: Loss Alice-Bob: 0.5080289244651794,    Loss Eve: 65.13800811767578\n",
            "Epoch 241: Loss Alice-Bob: 0.5080072283744812,    Loss Eve: 65.12954711914062\n",
            "Epoch 242: Loss Alice-Bob: 0.5079854726791382,    Loss Eve: 65.12118530273438\n",
            "Epoch 243: Loss Alice-Bob: 0.5079637169837952,    Loss Eve: 65.11292266845703\n",
            "Epoch 244: Loss Alice-Bob: 0.5079418420791626,    Loss Eve: 65.1047592163086\n",
            "Epoch 245: Loss Alice-Bob: 0.50791996717453,    Loss Eve: 65.09668731689453\n",
            "Epoch 246: Loss Alice-Bob: 0.5078980922698975,    Loss Eve: 65.08871459960938\n",
            "Epoch 247: Loss Alice-Bob: 0.5078761577606201,    Loss Eve: 65.08082580566406\n",
            "Epoch 248: Loss Alice-Bob: 0.5078544020652771,    Loss Eve: 65.07304382324219\n",
            "Epoch 249: Loss Alice-Bob: 0.5078323483467102,    Loss Eve: 65.06533813476562\n",
            "Epoch 250: Loss Alice-Bob: 0.5078104138374329,    Loss Eve: 65.0577163696289\n",
            "Epoch 251: Loss Alice-Bob: 0.5077884197235107,    Loss Eve: 65.0501937866211\n",
            "Epoch 252: Loss Alice-Bob: 0.5077661275863647,    Loss Eve: 65.04276275634766\n",
            "Epoch 253: Loss Alice-Bob: 0.5077439546585083,    Loss Eve: 65.03539276123047\n",
            "Epoch 254: Loss Alice-Bob: 0.5077215433120728,    Loss Eve: 65.02812194824219\n",
            "Epoch 255: Loss Alice-Bob: 0.5076992511749268,    Loss Eve: 65.02094268798828\n",
            "Epoch 256: Loss Alice-Bob: 0.5076768398284912,    Loss Eve: 65.01382446289062\n",
            "Epoch 257: Loss Alice-Bob: 0.5076543688774109,    Loss Eve: 65.00679779052734\n",
            "Epoch 258: Loss Alice-Bob: 0.507631778717041,    Loss Eve: 64.99984741210938\n",
            "Epoch 259: Loss Alice-Bob: 0.5076091885566711,    Loss Eve: 64.99296569824219\n",
            "Epoch 260: Loss Alice-Bob: 0.5075865387916565,    Loss Eve: 64.98616027832031\n",
            "Epoch 261: Loss Alice-Bob: 0.5075638294219971,    Loss Eve: 64.97943115234375\n",
            "Epoch 262: Loss Alice-Bob: 0.5075412392616272,    Loss Eve: 64.97279357910156\n",
            "Epoch 263: Loss Alice-Bob: 0.5075185298919678,    Loss Eve: 64.9662094116211\n",
            "Epoch 264: Loss Alice-Bob: 0.5074959397315979,    Loss Eve: 64.95970153808594\n",
            "Epoch 265: Loss Alice-Bob: 0.5074732303619385,    Loss Eve: 64.95325469970703\n",
            "Epoch 266: Loss Alice-Bob: 0.5074506402015686,    Loss Eve: 64.94689178466797\n",
            "Epoch 267: Loss Alice-Bob: 0.507427990436554,    Loss Eve: 64.94058227539062\n",
            "Epoch 268: Loss Alice-Bob: 0.5074055194854736,    Loss Eve: 64.9343490600586\n",
            "Epoch 269: Loss Alice-Bob: 0.5073829889297485,    Loss Eve: 64.92817687988281\n",
            "Epoch 270: Loss Alice-Bob: 0.5073603987693787,    Loss Eve: 64.92207336425781\n",
            "Epoch 271: Loss Alice-Bob: 0.5073379278182983,    Loss Eve: 64.91602325439453\n",
            "Epoch 272: Loss Alice-Bob: 0.5073155164718628,    Loss Eve: 64.9100341796875\n",
            "Epoch 273: Loss Alice-Bob: 0.5072931051254272,    Loss Eve: 64.90411376953125\n",
            "Epoch 274: Loss Alice-Bob: 0.507270872592926,    Loss Eve: 64.89825439453125\n",
            "Epoch 275: Loss Alice-Bob: 0.5072486996650696,    Loss Eve: 64.8924560546875\n",
            "Epoch 276: Loss Alice-Bob: 0.5072267055511475,    Loss Eve: 64.88671112060547\n",
            "Epoch 277: Loss Alice-Bob: 0.5072047710418701,    Loss Eve: 64.88102722167969\n",
            "Epoch 278: Loss Alice-Bob: 0.5071830153465271,    Loss Eve: 64.87540435791016\n",
            "Epoch 279: Loss Alice-Bob: 0.5071612596511841,    Loss Eve: 64.86982727050781\n",
            "Epoch 280: Loss Alice-Bob: 0.5071398019790649,    Loss Eve: 64.86430358886719\n",
            "Epoch 281: Loss Alice-Bob: 0.5071184635162354,    Loss Eve: 64.85883331298828\n",
            "Epoch 282: Loss Alice-Bob: 0.5070973038673401,    Loss Eve: 64.8534164428711\n",
            "Epoch 283: Loss Alice-Bob: 0.5070763230323792,    Loss Eve: 64.84805297851562\n",
            "Epoch 284: Loss Alice-Bob: 0.5070555806159973,    Loss Eve: 64.84273529052734\n",
            "Epoch 285: Loss Alice-Bob: 0.507034957408905,    Loss Eve: 64.83747863769531\n",
            "Epoch 286: Loss Alice-Bob: 0.5070145726203918,    Loss Eve: 64.83224487304688\n",
            "Epoch 287: Loss Alice-Bob: 0.506994366645813,    Loss Eve: 64.82707977294922\n",
            "Epoch 288: Loss Alice-Bob: 0.5069743990898132,    Loss Eve: 64.82196044921875\n",
            "Epoch 289: Loss Alice-Bob: 0.5069546699523926,    Loss Eve: 64.8168716430664\n",
            "Epoch 290: Loss Alice-Bob: 0.5069350600242615,    Loss Eve: 64.81183624267578\n",
            "Epoch 291: Loss Alice-Bob: 0.506915807723999,    Loss Eve: 64.80684661865234\n",
            "Epoch 292: Loss Alice-Bob: 0.5068966150283813,    Loss Eve: 64.8019027709961\n",
            "Epoch 293: Loss Alice-Bob: 0.5068777799606323,    Loss Eve: 64.79700469970703\n",
            "Epoch 294: Loss Alice-Bob: 0.5068591833114624,    Loss Eve: 64.79214477539062\n",
            "Epoch 295: Loss Alice-Bob: 0.5068407654762268,    Loss Eve: 64.78732299804688\n",
            "Epoch 296: Loss Alice-Bob: 0.5068225860595703,    Loss Eve: 64.78254699707031\n",
            "Epoch 297: Loss Alice-Bob: 0.5068046450614929,    Loss Eve: 64.77780151367188\n",
            "Epoch 298: Loss Alice-Bob: 0.5067870020866394,    Loss Eve: 64.7730941772461\n",
            "Epoch 299: Loss Alice-Bob: 0.5067696571350098,    Loss Eve: 64.7684326171875\n",
            "Epoch 300: Loss Alice-Bob: 0.5067524909973145,    Loss Eve: 64.76380920410156\n",
            "Epoch 301: Loss Alice-Bob: 0.506735622882843,    Loss Eve: 64.75922393798828\n",
            "Epoch 302: Loss Alice-Bob: 0.5067189931869507,    Loss Eve: 64.75467681884766\n",
            "Epoch 303: Loss Alice-Bob: 0.5067026615142822,    Loss Eve: 64.75015258789062\n",
            "Epoch 304: Loss Alice-Bob: 0.5066865682601929,    Loss Eve: 64.74568176269531\n",
            "Epoch 305: Loss Alice-Bob: 0.5066707134246826,    Loss Eve: 64.7412338256836\n",
            "Epoch 306: Loss Alice-Bob: 0.5066550970077515,    Loss Eve: 64.73681640625\n",
            "Epoch 307: Loss Alice-Bob: 0.5066397786140442,    Loss Eve: 64.7324447631836\n",
            "Epoch 308: Loss Alice-Bob: 0.506624698638916,    Loss Eve: 64.72810363769531\n",
            "Epoch 309: Loss Alice-Bob: 0.5066099762916565,    Loss Eve: 64.72378540039062\n",
            "Epoch 310: Loss Alice-Bob: 0.5065954923629761,    Loss Eve: 64.71952056884766\n",
            "Epoch 311: Loss Alice-Bob: 0.5065812468528748,    Loss Eve: 64.71527099609375\n",
            "Epoch 312: Loss Alice-Bob: 0.5065673589706421,    Loss Eve: 64.71106719970703\n",
            "Epoch 313: Loss Alice-Bob: 0.5065537095069885,    Loss Eve: 64.70687866210938\n",
            "Epoch 314: Loss Alice-Bob: 0.5065403580665588,    Loss Eve: 64.7027359008789\n",
            "Epoch 315: Loss Alice-Bob: 0.5065272450447083,    Loss Eve: 64.69860076904297\n",
            "Epoch 316: Loss Alice-Bob: 0.5065143704414368,    Loss Eve: 64.69451904296875\n",
            "Epoch 317: Loss Alice-Bob: 0.5065016746520996,    Loss Eve: 64.69046020507812\n",
            "Epoch 318: Loss Alice-Bob: 0.5064892768859863,    Loss Eve: 64.68643188476562\n",
            "Epoch 319: Loss Alice-Bob: 0.5064770579338074,    Loss Eve: 64.68243408203125\n",
            "Epoch 320: Loss Alice-Bob: 0.5064650177955627,    Loss Eve: 64.67845916748047\n",
            "Epoch 321: Loss Alice-Bob: 0.5064535140991211,    Loss Eve: 64.67452239990234\n",
            "Epoch 322: Loss Alice-Bob: 0.506442129611969,    Loss Eve: 64.67060852050781\n",
            "Epoch 323: Loss Alice-Bob: 0.506430983543396,    Loss Eve: 64.66671752929688\n",
            "Epoch 324: Loss Alice-Bob: 0.5064200758934021,    Loss Eve: 64.6628646850586\n",
            "Epoch 325: Loss Alice-Bob: 0.5064092874526978,    Loss Eve: 64.65904235839844\n",
            "Epoch 326: Loss Alice-Bob: 0.506398618221283,    Loss Eve: 64.65523529052734\n",
            "Epoch 327: Loss Alice-Bob: 0.5063881874084473,    Loss Eve: 64.65145874023438\n",
            "Epoch 328: Loss Alice-Bob: 0.5063781142234802,    Loss Eve: 64.64771270751953\n",
            "Epoch 329: Loss Alice-Bob: 0.506368100643158,    Loss Eve: 64.64398956298828\n",
            "Epoch 330: Loss Alice-Bob: 0.5063583850860596,    Loss Eve: 64.64028930664062\n",
            "Epoch 331: Loss Alice-Bob: 0.5063487887382507,    Loss Eve: 64.63662719726562\n",
            "Epoch 332: Loss Alice-Bob: 0.5063393115997314,    Loss Eve: 64.63298797607422\n",
            "Epoch 333: Loss Alice-Bob: 0.5063300132751465,    Loss Eve: 64.6293716430664\n",
            "Epoch 334: Loss Alice-Bob: 0.5063208937644958,    Loss Eve: 64.62577819824219\n",
            "Epoch 335: Loss Alice-Bob: 0.5063118934631348,    Loss Eve: 64.6222152709961\n",
            "Epoch 336: Loss Alice-Bob: 0.506303071975708,    Loss Eve: 64.61866760253906\n",
            "Epoch 337: Loss Alice-Bob: 0.5062944293022156,    Loss Eve: 64.61514282226562\n",
            "Epoch 338: Loss Alice-Bob: 0.5062858462333679,    Loss Eve: 64.61166381835938\n",
            "Epoch 339: Loss Alice-Bob: 0.5062773823738098,    Loss Eve: 64.60819244384766\n",
            "Epoch 340: Loss Alice-Bob: 0.506269097328186,    Loss Eve: 64.60475158691406\n",
            "Epoch 341: Loss Alice-Bob: 0.5062609314918518,    Loss Eve: 64.60133361816406\n",
            "Epoch 342: Loss Alice-Bob: 0.5062528252601624,    Loss Eve: 64.59794616699219\n",
            "Epoch 343: Loss Alice-Bob: 0.5062448382377625,    Loss Eve: 64.59457397460938\n",
            "Epoch 344: Loss Alice-Bob: 0.5062370896339417,    Loss Eve: 64.59122467041016\n",
            "Epoch 345: Loss Alice-Bob: 0.5062292814254761,    Loss Eve: 64.58790588378906\n",
            "Epoch 346: Loss Alice-Bob: 0.5062215924263,    Loss Eve: 64.58460998535156\n",
            "Epoch 347: Loss Alice-Bob: 0.5062140822410583,    Loss Eve: 64.5813217163086\n",
            "Epoch 348: Loss Alice-Bob: 0.5062066316604614,    Loss Eve: 64.57807922363281\n",
            "Epoch 349: Loss Alice-Bob: 0.5061992406845093,    Loss Eve: 64.57484436035156\n",
            "Epoch 350: Loss Alice-Bob: 0.5061920285224915,    Loss Eve: 64.5716323852539\n",
            "Epoch 351: Loss Alice-Bob: 0.5061848163604736,    Loss Eve: 64.56845092773438\n",
            "Epoch 352: Loss Alice-Bob: 0.5061777234077454,    Loss Eve: 64.5652847290039\n",
            "Epoch 353: Loss Alice-Bob: 0.5061706900596619,    Loss Eve: 64.5621566772461\n",
            "Epoch 354: Loss Alice-Bob: 0.5061637759208679,    Loss Eve: 64.55902862548828\n",
            "Epoch 355: Loss Alice-Bob: 0.506156861782074,    Loss Eve: 64.55592346191406\n",
            "Epoch 356: Loss Alice-Bob: 0.5061500668525696,    Loss Eve: 64.5528564453125\n",
            "Epoch 357: Loss Alice-Bob: 0.50614333152771,    Loss Eve: 64.54979705810547\n",
            "Epoch 358: Loss Alice-Bob: 0.5061366558074951,    Loss Eve: 64.54676055908203\n",
            "Epoch 359: Loss Alice-Bob: 0.5061301589012146,    Loss Eve: 64.54374694824219\n",
            "Epoch 360: Loss Alice-Bob: 0.5061236023902893,    Loss Eve: 64.54074096679688\n",
            "Epoch 361: Loss Alice-Bob: 0.5061172246932983,    Loss Eve: 64.53777313232422\n",
            "Epoch 362: Loss Alice-Bob: 0.5061107873916626,    Loss Eve: 64.53482055664062\n",
            "Epoch 363: Loss Alice-Bob: 0.5061045289039612,    Loss Eve: 64.53189086914062\n",
            "Epoch 364: Loss Alice-Bob: 0.5060983300209045,    Loss Eve: 64.52896881103516\n",
            "Epoch 365: Loss Alice-Bob: 0.5060921311378479,    Loss Eve: 64.52606201171875\n",
            "Epoch 366: Loss Alice-Bob: 0.506085991859436,    Loss Eve: 64.52318572998047\n",
            "Epoch 367: Loss Alice-Bob: 0.5060799717903137,    Loss Eve: 64.52032470703125\n",
            "Epoch 368: Loss Alice-Bob: 0.5060738921165466,    Loss Eve: 64.51748657226562\n",
            "Epoch 369: Loss Alice-Bob: 0.5060679912567139,    Loss Eve: 64.51466369628906\n",
            "Epoch 370: Loss Alice-Bob: 0.5060620903968811,    Loss Eve: 64.51185607910156\n",
            "Epoch 371: Loss Alice-Bob: 0.5060562491416931,    Loss Eve: 64.50907135009766\n",
            "Epoch 372: Loss Alice-Bob: 0.5060504674911499,    Loss Eve: 64.50630187988281\n",
            "Epoch 373: Loss Alice-Bob: 0.5060446262359619,    Loss Eve: 64.50354766845703\n",
            "Epoch 374: Loss Alice-Bob: 0.506039023399353,    Loss Eve: 64.50080871582031\n",
            "Epoch 375: Loss Alice-Bob: 0.5060333609580994,    Loss Eve: 64.49809265136719\n",
            "Epoch 376: Loss Alice-Bob: 0.5060277581214905,    Loss Eve: 64.4953842163086\n",
            "Epoch 377: Loss Alice-Bob: 0.5060222148895264,    Loss Eve: 64.49270629882812\n",
            "Epoch 378: Loss Alice-Bob: 0.5060167908668518,    Loss Eve: 64.49003601074219\n",
            "Epoch 379: Loss Alice-Bob: 0.5060112476348877,    Loss Eve: 64.48738098144531\n",
            "Epoch 380: Loss Alice-Bob: 0.5060058832168579,    Loss Eve: 64.4847412109375\n",
            "Epoch 381: Loss Alice-Bob: 0.5060005187988281,    Loss Eve: 64.48212432861328\n",
            "Epoch 382: Loss Alice-Bob: 0.5059952735900879,    Loss Eve: 64.47952270507812\n",
            "Epoch 383: Loss Alice-Bob: 0.5059900283813477,    Loss Eve: 64.47693634033203\n",
            "Epoch 384: Loss Alice-Bob: 0.5059847831726074,    Loss Eve: 64.47435760498047\n",
            "Epoch 385: Loss Alice-Bob: 0.505979597568512,    Loss Eve: 64.47179412841797\n",
            "Epoch 386: Loss Alice-Bob: 0.505974531173706,    Loss Eve: 64.46925354003906\n",
            "Epoch 387: Loss Alice-Bob: 0.5059694051742554,    Loss Eve: 64.46672058105469\n",
            "Epoch 388: Loss Alice-Bob: 0.5059643387794495,    Loss Eve: 64.4642105102539\n",
            "Epoch 389: Loss Alice-Bob: 0.5059592723846436,    Loss Eve: 64.46170806884766\n",
            "Epoch 390: Loss Alice-Bob: 0.505954384803772,    Loss Eve: 64.45922088623047\n",
            "Epoch 391: Loss Alice-Bob: 0.5059494376182556,    Loss Eve: 64.45674896240234\n",
            "Epoch 392: Loss Alice-Bob: 0.505944550037384,    Loss Eve: 64.45429229736328\n",
            "Epoch 393: Loss Alice-Bob: 0.5059397220611572,    Loss Eve: 64.45184326171875\n",
            "Epoch 394: Loss Alice-Bob: 0.5059348940849304,    Loss Eve: 64.44941711425781\n",
            "Epoch 395: Loss Alice-Bob: 0.5059301853179932,    Loss Eve: 64.44700622558594\n",
            "Epoch 396: Loss Alice-Bob: 0.5059253573417664,    Loss Eve: 64.4446029663086\n",
            "Epoch 397: Loss Alice-Bob: 0.5059207677841187,    Loss Eve: 64.44221496582031\n",
            "Epoch 398: Loss Alice-Bob: 0.5059160590171814,    Loss Eve: 64.43983459472656\n",
            "Epoch 399: Loss Alice-Bob: 0.5059114694595337,    Loss Eve: 64.43746948242188\n",
            "Epoch 400: Loss Alice-Bob: 0.5059069395065308,    Loss Eve: 64.43511962890625\n",
            "Epoch 401: Loss Alice-Bob: 0.5059023499488831,    Loss Eve: 64.43277740478516\n",
            "Epoch 402: Loss Alice-Bob: 0.5058978796005249,    Loss Eve: 64.43045043945312\n",
            "Epoch 403: Loss Alice-Bob: 0.505893349647522,    Loss Eve: 64.42814636230469\n",
            "Epoch 404: Loss Alice-Bob: 0.5058889389038086,    Loss Eve: 64.42584228515625\n",
            "Epoch 405: Loss Alice-Bob: 0.5058845281600952,    Loss Eve: 64.4235610961914\n",
            "Epoch 406: Loss Alice-Bob: 0.5058801770210266,    Loss Eve: 64.42127227783203\n",
            "Epoch 407: Loss Alice-Bob: 0.5058758854866028,    Loss Eve: 64.41901397705078\n",
            "Epoch 408: Loss Alice-Bob: 0.505871593952179,    Loss Eve: 64.41675567626953\n",
            "Epoch 409: Loss Alice-Bob: 0.5058673024177551,    Loss Eve: 64.41452026367188\n",
            "Epoch 410: Loss Alice-Bob: 0.5058630704879761,    Loss Eve: 64.41229248046875\n",
            "Epoch 411: Loss Alice-Bob: 0.5058588981628418,    Loss Eve: 64.41006469726562\n",
            "Epoch 412: Loss Alice-Bob: 0.5058547854423523,    Loss Eve: 64.4078598022461\n",
            "Epoch 413: Loss Alice-Bob: 0.5058506727218628,    Loss Eve: 64.4056625366211\n",
            "Epoch 414: Loss Alice-Bob: 0.5058465003967285,    Loss Eve: 64.40347290039062\n",
            "Epoch 415: Loss Alice-Bob: 0.5058424472808838,    Loss Eve: 64.40130615234375\n",
            "Epoch 416: Loss Alice-Bob: 0.5058384537696838,    Loss Eve: 64.3991470336914\n",
            "Epoch 417: Loss Alice-Bob: 0.5058344006538391,    Loss Eve: 64.39698028564453\n",
            "Epoch 418: Loss Alice-Bob: 0.5058304071426392,    Loss Eve: 64.39484405517578\n",
            "Epoch 419: Loss Alice-Bob: 0.505826473236084,    Loss Eve: 64.39271545410156\n",
            "Epoch 420: Loss Alice-Bob: 0.5058225393295288,    Loss Eve: 64.39059448242188\n",
            "Epoch 421: Loss Alice-Bob: 0.5058187246322632,    Loss Eve: 64.38847351074219\n",
            "Epoch 422: Loss Alice-Bob: 0.5058148503303528,    Loss Eve: 64.38638305664062\n",
            "Epoch 423: Loss Alice-Bob: 0.5058109760284424,    Loss Eve: 64.38428497314453\n",
            "Epoch 424: Loss Alice-Bob: 0.5058071613311768,    Loss Eve: 64.38220977783203\n",
            "Epoch 425: Loss Alice-Bob: 0.5058034658432007,    Loss Eve: 64.38013458251953\n",
            "Epoch 426: Loss Alice-Bob: 0.5057997107505798,    Loss Eve: 64.3780746459961\n",
            "Epoch 427: Loss Alice-Bob: 0.505795955657959,    Loss Eve: 64.37602996826172\n",
            "Epoch 428: Loss Alice-Bob: 0.5057922601699829,    Loss Eve: 64.37398529052734\n",
            "Epoch 429: Loss Alice-Bob: 0.5057886242866516,    Loss Eve: 64.37195587158203\n",
            "Epoch 430: Loss Alice-Bob: 0.5057849884033203,    Loss Eve: 64.36993408203125\n",
            "Epoch 431: Loss Alice-Bob: 0.5057812929153442,    Loss Eve: 64.367919921875\n",
            "Epoch 432: Loss Alice-Bob: 0.5057777166366577,    Loss Eve: 64.36592102050781\n",
            "Epoch 433: Loss Alice-Bob: 0.5057742595672607,    Loss Eve: 64.36392211914062\n",
            "Epoch 434: Loss Alice-Bob: 0.5057706832885742,    Loss Eve: 64.36194610595703\n",
            "Epoch 435: Loss Alice-Bob: 0.5057671666145325,    Loss Eve: 64.35997772216797\n",
            "Epoch 436: Loss Alice-Bob: 0.5057637095451355,    Loss Eve: 64.3580093383789\n",
            "Epoch 437: Loss Alice-Bob: 0.5057602524757385,    Loss Eve: 64.35606384277344\n",
            "Epoch 438: Loss Alice-Bob: 0.5057569146156311,    Loss Eve: 64.35411071777344\n",
            "Epoch 439: Loss Alice-Bob: 0.5057534575462341,    Loss Eve: 64.35218048095703\n",
            "Epoch 440: Loss Alice-Bob: 0.5057500600814819,    Loss Eve: 64.35025024414062\n",
            "Epoch 441: Loss Alice-Bob: 0.5057467222213745,    Loss Eve: 64.34834289550781\n",
            "Epoch 442: Loss Alice-Bob: 0.5057433843612671,    Loss Eve: 64.34642791748047\n",
            "Epoch 443: Loss Alice-Bob: 0.5057400465011597,    Loss Eve: 64.34452819824219\n",
            "Epoch 444: Loss Alice-Bob: 0.5057368278503418,    Loss Eve: 64.34264373779297\n",
            "Epoch 445: Loss Alice-Bob: 0.5057335495948792,    Loss Eve: 64.34076690673828\n",
            "Epoch 446: Loss Alice-Bob: 0.5057303309440613,    Loss Eve: 64.3388900756836\n",
            "Epoch 447: Loss Alice-Bob: 0.5057271122932434,    Loss Eve: 64.3370361328125\n",
            "Epoch 448: Loss Alice-Bob: 0.5057239532470703,    Loss Eve: 64.3351821899414\n",
            "Epoch 449: Loss Alice-Bob: 0.5057207345962524,    Loss Eve: 64.33333587646484\n",
            "Epoch 450: Loss Alice-Bob: 0.5057175755500793,    Loss Eve: 64.33149719238281\n",
            "Epoch 451: Loss Alice-Bob: 0.505714476108551,    Loss Eve: 64.32966613769531\n",
            "Epoch 452: Loss Alice-Bob: 0.5057113766670227,    Loss Eve: 64.32785034179688\n",
            "Epoch 453: Loss Alice-Bob: 0.5057082772254944,    Loss Eve: 64.32603454589844\n",
            "Epoch 454: Loss Alice-Bob: 0.5057052373886108,    Loss Eve: 64.3242416381836\n",
            "Epoch 455: Loss Alice-Bob: 0.5057021975517273,    Loss Eve: 64.32244110107422\n",
            "Epoch 456: Loss Alice-Bob: 0.5056992173194885,    Loss Eve: 64.3206558227539\n",
            "Epoch 457: Loss Alice-Bob: 0.5056961178779602,    Loss Eve: 64.3188705444336\n",
            "Epoch 458: Loss Alice-Bob: 0.5056931972503662,    Loss Eve: 64.31710815429688\n",
            "Epoch 459: Loss Alice-Bob: 0.505690336227417,    Loss Eve: 64.31534576416016\n",
            "Epoch 460: Loss Alice-Bob: 0.5056872963905334,    Loss Eve: 64.31359100341797\n",
            "Epoch 461: Loss Alice-Bob: 0.5056843757629395,    Loss Eve: 64.31184387207031\n",
            "Epoch 462: Loss Alice-Bob: 0.5056815147399902,    Loss Eve: 64.31011962890625\n",
            "Epoch 463: Loss Alice-Bob: 0.505678653717041,    Loss Eve: 64.30838012695312\n",
            "Epoch 464: Loss Alice-Bob: 0.5056757926940918,    Loss Eve: 64.3066635131836\n",
            "Epoch 465: Loss Alice-Bob: 0.5056729316711426,    Loss Eve: 64.30494689941406\n",
            "Epoch 466: Loss Alice-Bob: 0.5056701898574829,    Loss Eve: 64.30323791503906\n",
            "Epoch 467: Loss Alice-Bob: 0.5056673288345337,    Loss Eve: 64.30154418945312\n",
            "Epoch 468: Loss Alice-Bob: 0.505664587020874,    Loss Eve: 64.29984283447266\n",
            "Epoch 469: Loss Alice-Bob: 0.5056617856025696,    Loss Eve: 64.29816436767578\n",
            "Epoch 470: Loss Alice-Bob: 0.5056590437889099,    Loss Eve: 64.2964859008789\n",
            "Epoch 471: Loss Alice-Bob: 0.5056563019752502,    Loss Eve: 64.2948226928711\n",
            "Epoch 472: Loss Alice-Bob: 0.5056536793708801,    Loss Eve: 64.29316711425781\n",
            "Epoch 473: Loss Alice-Bob: 0.5056509971618652,    Loss Eve: 64.29150390625\n",
            "Epoch 474: Loss Alice-Bob: 0.5056482553482056,    Loss Eve: 64.28985595703125\n",
            "Epoch 475: Loss Alice-Bob: 0.5056456923484802,    Loss Eve: 64.28822326660156\n",
            "Epoch 476: Loss Alice-Bob: 0.5056430697441101,    Loss Eve: 64.2865982055664\n",
            "Epoch 477: Loss Alice-Bob: 0.5056403875350952,    Loss Eve: 64.28497314453125\n",
            "Epoch 478: Loss Alice-Bob: 0.5056377649307251,    Loss Eve: 64.2833480834961\n",
            "Epoch 479: Loss Alice-Bob: 0.5056352019309998,    Loss Eve: 64.28174591064453\n",
            "Epoch 480: Loss Alice-Bob: 0.5056326985359192,    Loss Eve: 64.28014373779297\n",
            "Epoch 481: Loss Alice-Bob: 0.5056301951408386,    Loss Eve: 64.27854919433594\n",
            "Epoch 482: Loss Alice-Bob: 0.5056276321411133,    Loss Eve: 64.2769546508789\n",
            "Epoch 483: Loss Alice-Bob: 0.5056250691413879,    Loss Eve: 64.27538299560547\n",
            "Epoch 484: Loss Alice-Bob: 0.5056226253509521,    Loss Eve: 64.2738037109375\n",
            "Epoch 485: Loss Alice-Bob: 0.5056201219558716,    Loss Eve: 64.2722396850586\n",
            "Epoch 486: Loss Alice-Bob: 0.5056177377700806,    Loss Eve: 64.27067565917969\n",
            "Epoch 487: Loss Alice-Bob: 0.5056152939796448,    Loss Eve: 64.26913452148438\n",
            "Epoch 488: Loss Alice-Bob: 0.505612850189209,    Loss Eve: 64.267578125\n",
            "Epoch 489: Loss Alice-Bob: 0.505610466003418,    Loss Eve: 64.26604461669922\n",
            "Epoch 490: Loss Alice-Bob: 0.5056080222129822,    Loss Eve: 64.26451110839844\n",
            "Epoch 491: Loss Alice-Bob: 0.5056056380271912,    Loss Eve: 64.26297760009766\n",
            "Epoch 492: Loss Alice-Bob: 0.5056033134460449,    Loss Eve: 64.26146697998047\n",
            "Epoch 493: Loss Alice-Bob: 0.5056009292602539,    Loss Eve: 64.25994873046875\n",
            "Epoch 494: Loss Alice-Bob: 0.5055986642837524,    Loss Eve: 64.2584457397461\n",
            "Epoch 495: Loss Alice-Bob: 0.5055963397026062,    Loss Eve: 64.25694274902344\n",
            "Epoch 496: Loss Alice-Bob: 0.50559401512146,    Loss Eve: 64.25545501708984\n",
            "Epoch 497: Loss Alice-Bob: 0.5055917501449585,    Loss Eve: 64.25396728515625\n",
            "Epoch 498: Loss Alice-Bob: 0.5055894255638123,    Loss Eve: 64.25248718261719\n",
            "Epoch 499: Loss Alice-Bob: 0.5055871605873108,    Loss Eve: 64.25100708007812\n",
            "Epoch 500: Loss Alice-Bob: 0.5055849552154541,    Loss Eve: 64.24954223632812\n"
          ]
        }
      ],
      "source": [
        "num_epochs = 500\n",
        "\n",
        "train_losses_ab_list = []\n",
        "train_losses_e_lstm_list = []\n",
        "test_losses_ab_list = []\n",
        "test_losses_e_lstm_list = []\n",
        "\n",
        "for epoch in range(num_epochs):\n",
        "    with tf.GradientTape() as tape_ab:\n",
        "        combined_input = tf.concat([train_messages, train_keys], axis=-1)\n",
        "        ciphertext = alice(combined_input)\n",
        "\n",
        "        decrypted_input = tf.concat([ciphertext, train_keys], axis=-1)\n",
        "        decrypted_messages = bob(decrypted_input)\n",
        "\n",
        "        loss_ab = combined_loss_function(train_messages, decrypted_messages, eve_lstm(ciphertext))\n",
        "\n",
        "    gradients_ab = tape_ab.gradient(loss_ab, alice.trainable_variables + bob.trainable_variables)\n",
        "    optimizer_ab.apply_gradients(zip(gradients_ab, alice.trainable_variables + bob.trainable_variables))\n",
        "\n",
        "    with tf.GradientTape() as tape_e_lstm:\n",
        "\n",
        "        guessed_messages_lstm = eve_lstm(ciphertext)\n",
        "\n",
        "        loss_e_lstm = attacker_loss(train_messages, guessed_messages_lstm)\n",
        "\n",
        "    gradients_e_lstm = tape_e_lstm.gradient(loss_e_lstm, eve_lstm.trainable_variables)\n",
        "    optimizer_e_lstm.apply_gradients(zip(gradients_e_lstm, eve_lstm.trainable_variables))\n",
        "\n",
        "    train_losses_ab_list.append(loss_ab.numpy())\n",
        "    train_losses_e_lstm_list.append(loss_e_lstm.numpy())\n",
        "\n",
        "    test_ciphertext = alice(tf.concat([test_messages, test_keys], axis=-1))\n",
        "    test_decrypted_messages = bob(tf.concat([test_ciphertext, test_keys], axis=-1))\n",
        "    test_guessed_messages_lstm = eve_lstm(test_ciphertext)\n",
        "\n",
        "    test_loss_ab = combined_loss_function(test_messages, test_decrypted_messages, test_guessed_messages_lstm)\n",
        "    test_loss_e_lstm = attacker_loss(test_messages, test_guessed_messages_lstm)\n",
        "\n",
        "    test_losses_ab_list.append(test_loss_ab.numpy())\n",
        "    test_losses_e_lstm_list.append(test_loss_e_lstm.numpy())\n",
        "\n",
        "    print(f\"Epoch {epoch + 1}: \"\n",
        "          f\"Loss Alice-Bob: {test_loss_ab.numpy()},    Loss Eve: {test_loss_e_lstm.numpy()}\")"
      ]
    },
    {
      "cell_type": "markdown",
      "metadata": {
        "id": "JU4a4qyTu4mp"
      },
      "source": [
        "# Plotting"
      ]
    },
    {
      "cell_type": "code",
      "execution_count": 12,
      "metadata": {
        "id": "B8_JZiw7u6pA",
        "colab": {
          "base_uri": "https://localhost:8080/",
          "height": 497
        },
        "outputId": "9849911b-db23-4523-e863-bdf6c0e56fc5"
      },
      "outputs": [
        {
          "output_type": "display_data",
          "data": {
            "text/plain": [
              "<Figure size 900x900 with 1 Axes>"
            ],
            "image/png": "[encoded data removed]"
          },
          "metadata": {}
        }
      ],
      "source": [
        "plt.figure(figsize=(9, 9))\n",
        "\n",
        "plt.subplot(2, 2, 1)\n",
        "plt.plot(test_losses_ab_list, label='Bob Loss')\n",
        "plt.plot(test_losses_e_lstm_list, label='Eve LSTM Loss')\n",
        "plt.xlabel('Epochs')\n",
        "plt.ylabel('Loss')\n",
        "plt.title('Bit-Loss Graph')\n",
        "plt.legend()\n",
        "\n",
        "plt.tight_layout()\n",
        "plt.show()"
      ]
    }
  ],
  "metadata": {
    "accelerator": "GPU",
    "colab": {
      "gpuType": "T4",
      "provenance": [],
      "include_colab_link": true
    },
    "kernelspec": {
      "display_name": "Python 3",
      "name": "python3"
    },
    "language_info": {
      "name": "python"
    }
  },
  "nbformat": 4,
  "nbformat_minor": 0
}