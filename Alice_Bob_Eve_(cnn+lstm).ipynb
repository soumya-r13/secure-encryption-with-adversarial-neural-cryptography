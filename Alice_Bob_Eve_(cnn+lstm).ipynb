{
  "cells": [
    {
      "cell_type": "markdown",
      "metadata": {
        "id": "view-in-github",
        "colab_type": "text"
      },
      "source": [
        "<a href=\"https://colab.research.google.com/github/soumya-r13/secure-encryption-with-adversarial-neural-cryptography/blob/main/Alice_Bob_Eve_(cnn%2Blstm).ipynb\" target=\"_parent\"><img src=\"https://colab.research.google.com/assets/colab-badge.svg\" alt=\"Open In Colab\"/></a>"
      ]
    },
    {
      "cell_type": "markdown",
      "metadata": {
        "id": "vmKUfcRNWHTr"
      },
      "source": [
        "# Importing the Libraries"
      ]
    },
    {
      "cell_type": "code",
      "execution_count": null,
      "metadata": {
        "id": "zsDLaenOV2Rj"
      },
      "outputs": [],
      "source": [
        "import tensorflow as tf\n",
        "from tensorflow.keras import layers, models, optimizers, losses\n",
        "import numpy as np\n",
        "import matplotlib.pyplot as plt"
      ]
    },
    {
      "cell_type": "markdown",
      "metadata": {
        "id": "VTJs3mjQWjfW"
      },
      "source": [
        "# Data Generation"
      ]
    },
    {
      "cell_type": "markdown",
      "metadata": {
        "id": "MXC_s1eiWygU"
      },
      "source": [
        "## Defining the function"
      ]
    },
    {
      "cell_type": "code",
      "execution_count": null,
      "metadata": {
        "id": "TEU6YD4rWnk1"
      },
      "outputs": [],
      "source": [
        "def generate_data(batch_size, seq_length):\n",
        "    messages = np.random.choice([-1, 1], size=(batch_size, seq_length, 1)).astype(np.float32)\n",
        "    keys = np.random.choice([-1, 1], size=(batch_size, seq_length, 1)).astype(np.float32)\n",
        "    return messages, keys"
      ]
    },
    {
      "cell_type": "markdown",
      "metadata": {
        "id": "j5K3lgWjW4to"
      },
      "source": [
        "## Parameters for Data Generation"
      ]
    },
    {
      "cell_type": "code",
      "execution_count": null,
      "metadata": {
        "id": "cgWtUfUuW-WV"
      },
      "outputs": [],
      "source": [
        "batch_size = 64\n",
        "seq_length = 128\n",
        "train_size = 1000\n",
        "test_size = 200"
      ]
    },
    {
      "cell_type": "markdown",
      "metadata": {
        "id": "CkIOocqiXFgI"
      },
      "source": [
        "## Generating training and testing data"
      ]
    },
    {
      "cell_type": "code",
      "execution_count": null,
      "metadata": {
        "id": "mSZzQKwnXLyi"
      },
      "outputs": [],
      "source": [
        "train_messages, train_keys = generate_data(train_size, seq_length)\n",
        "test_messages, test_keys = generate_data(test_size, seq_length)"
      ]
    },
    {
      "cell_type": "markdown",
      "metadata": {
        "id": "kCBLZu1wXXEz"
      },
      "source": [
        "# Defining the Neural Networks"
      ]
    },
    {
      "cell_type": "markdown",
      "metadata": {
        "id": "ETblyBNss4rJ"
      },
      "source": [
        "## Alice's Neural Network"
      ]
    },
    {
      "cell_type": "code",
      "execution_count": null,
      "metadata": {
        "id": "562Pf_kcXk8X"
      },
      "outputs": [],
      "source": [
        "def build_encryption_net():\n",
        "    model = models.Sequential()\n",
        "    model.add(layers.Conv1D(seq_length, 3, padding='same', input_shape=(None, 2)))\n",
        "    model.add(layers.LSTM(64, return_sequences=True))\n",
        "    model.add(layers.LSTM(32, return_sequences=True))\n",
        "    model.add(layers.TimeDistributed(layers.Dense(32, activation='relu')))\n",
        "    model.add(layers.TimeDistributed(layers.Dense(1, activation='sigmoid')))\n",
        "    return model"
      ]
    },
    {
      "cell_type": "markdown",
      "metadata": {
        "id": "IdK_3_6rs9cL"
      },
      "source": [
        "## Bob's Neural Network"
      ]
    },
    {
      "cell_type": "code",
      "execution_count": null,
      "metadata": {
        "id": "qecQi1_ms_07"
      },
      "outputs": [],
      "source": [
        "def build_decryption_net():\n",
        "    model = models.Sequential()\n",
        "    model.add(layers.Conv1D(seq_length, 3, padding='same', input_shape=(None, 2)))\n",
        "    model.add(layers.LSTM(64, return_sequences=True))\n",
        "    model.add(layers.LSTM(32, return_sequences=True))\n",
        "    model.add(layers.TimeDistributed(layers.Dense(32, activation='relu')))\n",
        "    model.add(layers.TimeDistributed(layers.Dense(1, activation='sigmoid')))\n",
        "    return model"
      ]
    },
    {
      "cell_type": "markdown",
      "metadata": {
        "id": "9sv2Bk7BtA1P"
      },
      "source": [
        "## Eve's Neural Network"
      ]
    },
    {
      "cell_type": "code",
      "execution_count": null,
      "metadata": {
        "id": "vqvirkYKtDrt"
      },
      "outputs": [],
      "source": [
        "def build_cnn_lstm_adversary_net():\n",
        "    model = models.Sequential()\n",
        "    model.add(layers.Conv1D(seq_length, 3, padding='same', input_shape=(None, 1)))\n",
        "    model.add(layers.LSTM(64, return_sequences=True))\n",
        "    model.add(layers.LSTM(32, return_sequences=True))\n",
        "    model.add(layers.TimeDistributed(layers.Dense(32, activation='relu')))\n",
        "    model.add(layers.TimeDistributed(layers.Dense(1, activation='sigmoid')))\n",
        "    return model"
      ]
    },
    {
      "cell_type": "markdown",
      "metadata": {
        "id": "dakrh5wxe-5A"
      },
      "source": [
        "## Loss Functions"
      ]
    },
    {
      "cell_type": "code",
      "execution_count": null,
      "metadata": {
        "id": "xV0mtS23fIqM"
      },
      "outputs": [],
      "source": [
        "def separation(alice_input, bob_output):\n",
        "    separation_value = tf.reduce_sum(tf.abs(tf.subtract(alice_input, bob_output)), axis=1)\n",
        "    # print(\"separation\", separation_value.numpy())\n",
        "    return separation_value\n",
        "\n",
        "def eve_vs_random_guess(alice_input, eve_output):\n",
        "    loss = tf.square(seq_length/2 - separation(alice_input, eve_output)) / (seq_length/2) ** 2\n",
        "    # print(\"Eve vs random guess loss:\", loss.numpy())\n",
        "    return tf.reduce_mean(loss)\n",
        "\n",
        "def combined_loss_function(alice_input, decipher_bob, eve_output):\n",
        "    loss = separation(alice_input, decipher_bob)/seq_length + eve_vs_random_guess(alice_input, eve_output)\n",
        "    # print(\"Combined loss function:\", loss.numpy())\n",
        "    return tf.reduce_mean(loss)\n",
        "\n",
        "def attacker_loss(alice_input, eve_output):\n",
        "    loss = separation(alice_input, eve_output)\n",
        "    # print(\"Attacker loss:\", loss.numpy())\n",
        "    return tf.reduce_mean(loss)"
      ]
    },
    {
      "cell_type": "markdown",
      "metadata": {
        "id": "UATxS3WYtbEz"
      },
      "source": [
        "## Instantiating and compiling the Neural Networks"
      ]
    },
    {
      "cell_type": "code",
      "execution_count": null,
      "metadata": {
        "id": "jjdJupnrtdSE"
      },
      "outputs": [],
      "source": [
        "alice = build_encryption_net()\n",
        "bob = build_decryption_net()\n",
        "eve_cnn_lstm = build_cnn_lstm_adversary_net()"
      ]
    },
    {
      "cell_type": "code",
      "execution_count": null,
      "metadata": {
        "id": "k-HWLQsQt8XG"
      },
      "outputs": [],
      "source": [
        "optimizer_ab = optimizers.Adam(learning_rate=0.0008)\n",
        "optimizer_e_lstm = optimizers.Adam(learning_rate=0.0008)\n",
        "optimizer_e_cnn_lstm = optimizers.Adam(learning_rate=0.0008)"
      ]
    },
    {
      "cell_type": "markdown",
      "metadata": {
        "id": "11eCTf85ukDp"
      },
      "source": [
        "## Training and Testing"
      ]
    },
    {
      "cell_type": "code",
      "execution_count": null,
      "metadata": {
        "colab": {
          "base_uri": "https://localhost:8080/"
        },
        "id": "h7kg1Ae6umTK",
        "outputId": "697c90c3-6004-4300-de53-c832fbc6f951"
      },
      "outputs": [
        {
          "output_type": "stream",
          "name": "stderr",
          "text": [
            "WARNING:tensorflow:5 out of the last 5 calls to <function _BaseOptimizer._update_step_xla at 0x7d7556e9e8c0> triggered tf.function retracing. Tracing is expensive and the excessive number of tracings could be due to (1) creating @tf.function repeatedly in a loop, (2) passing tensors with different shapes, (3) passing Python objects instead of tensors. For (1), please define your @tf.function outside of the loop. For (2), @tf.function has reduce_retracing=True option that can avoid unnecessary retracing. For (3), please refer to https://www.tensorflow.org/guide/function#controlling_retracing and https://www.tensorflow.org/api_docs/python/tf/function for  more details.\n",
            "WARNING:tensorflow:6 out of the last 6 calls to <function _BaseOptimizer._update_step_xla at 0x7d7556e9e8c0> triggered tf.function retracing. Tracing is expensive and the excessive number of tracings could be due to (1) creating @tf.function repeatedly in a loop, (2) passing tensors with different shapes, (3) passing Python objects instead of tensors. For (1), please define your @tf.function outside of the loop. For (2), @tf.function has reduce_retracing=True option that can avoid unnecessary retracing. For (3), please refer to https://www.tensorflow.org/guide/function#controlling_retracing and https://www.tensorflow.org/api_docs/python/tf/function for  more details.\n"
          ]
        },
        {
          "output_type": "stream",
          "name": "stdout",
          "text": [
            "Epoch 1: Loss AB: 2.0247113704681396,   Loss Eve: 128.4000244140625\n",
            "Epoch 2: Loss AB: 2.0259485244750977,   Loss Eve: 128.41354370117188\n",
            "Epoch 3: Loss AB: 2.027254819869995,   Loss Eve: 128.42674255371094\n",
            "Epoch 4: Loss AB: 2.0285866260528564,   Loss Eve: 128.43968200683594\n",
            "Epoch 5: Loss AB: 2.0301027297973633,   Loss Eve: 128.45367431640625\n",
            "Epoch 6: Loss AB: 2.031543493270874,   Loss Eve: 128.46604919433594\n",
            "Epoch 7: Loss AB: 2.033087730407715,   Loss Eve: 128.47872924804688\n",
            "Epoch 8: Loss AB: 2.034804582595825,   Loss Eve: 128.4926300048828\n",
            "Epoch 9: Loss AB: 2.0366647243499756,   Loss Eve: 128.5074005126953\n",
            "Epoch 10: Loss AB: 2.038614273071289,   Loss Eve: 128.5224151611328\n",
            "Epoch 11: Loss AB: 2.0405595302581787,   Loss Eve: 128.5372772216797\n",
            "Epoch 12: Loss AB: 2.04244327545166,   Loss Eve: 128.55148315429688\n",
            "Epoch 13: Loss AB: 2.044171094894409,   Loss Eve: 128.56484985351562\n",
            "Epoch 14: Loss AB: 2.0455634593963623,   Loss Eve: 128.5741424560547\n",
            "Epoch 15: Loss AB: 2.0465078353881836,   Loss Eve: 128.57794189453125\n",
            "Epoch 16: Loss AB: 2.047057867050171,   Loss Eve: 128.57749938964844\n",
            "Epoch 17: Loss AB: 2.047147750854492,   Loss Eve: 128.57086181640625\n",
            "Epoch 18: Loss AB: 2.046660900115967,   Loss Eve: 128.55592346191406\n",
            "Epoch 19: Loss AB: 2.045438766479492,   Loss Eve: 128.53004455566406\n",
            "Epoch 20: Loss AB: 2.0433051586151123,   Loss Eve: 128.49057006835938\n",
            "Epoch 21: Loss AB: 2.040154218673706,   Loss Eve: 128.4363250732422\n",
            "Epoch 22: Loss AB: 2.036067008972168,   Loss Eve: 128.3684844970703\n",
            "Epoch 23: Loss AB: 2.0314245223999023,   Loss Eve: 128.29090881347656\n",
            "Epoch 24: Loss AB: 2.0266807079315186,   Loss Eve: 128.2062530517578\n",
            "Epoch 25: Loss AB: 2.0218846797943115,   Loss Eve: 128.1099090576172\n",
            "Epoch 26: Loss AB: 2.0166971683502197,   Loss Eve: 127.99136352539062\n",
            "Epoch 27: Loss AB: 2.0107250213623047,   Loss Eve: 127.841796875\n",
            "Epoch 28: Loss AB: 2.0036754608154297,   Loss Eve: 127.65547180175781\n",
            "Epoch 29: Loss AB: 1.9954217672348022,   Loss Eve: 127.4321060180664\n",
            "Epoch 30: Loss AB: 1.9859298467636108,   Loss Eve: 127.1734848022461\n",
            "Epoch 31: Loss AB: 1.9750738143920898,   Loss Eve: 126.87887573242188\n",
            "Epoch 32: Loss AB: 1.9627512693405151,   Loss Eve: 126.54745483398438\n",
            "Epoch 33: Loss AB: 1.9488433599472046,   Loss Eve: 126.17687225341797\n",
            "Epoch 34: Loss AB: 1.9329001903533936,   Loss Eve: 125.7529296875\n",
            "Epoch 35: Loss AB: 1.914331316947937,   Loss Eve: 125.25711059570312\n",
            "Epoch 36: Loss AB: 1.8926937580108643,   Loss Eve: 124.67637634277344\n",
            "Epoch 37: Loss AB: 1.8678418397903442,   Loss Eve: 124.00662231445312\n",
            "Epoch 38: Loss AB: 1.8395053148269653,   Loss Eve: 123.23861694335938\n",
            "Epoch 39: Loss AB: 1.8074313402175903,   Loss Eve: 122.35980224609375\n",
            "Epoch 40: Loss AB: 1.771852731704712,   Loss Eve: 121.37545776367188\n",
            "Epoch 41: Loss AB: 1.732757568359375,   Loss Eve: 120.2851791381836\n",
            "Epoch 42: Loss AB: 1.6905604600906372,   Loss Eve: 119.10073852539062\n",
            "Epoch 43: Loss AB: 1.6454828977584839,   Loss Eve: 117.82223510742188\n",
            "Epoch 44: Loss AB: 1.5976340770721436,   Loss Eve: 116.44617462158203\n",
            "Epoch 45: Loss AB: 1.5477874279022217,   Loss Eve: 114.9944076538086\n",
            "Epoch 46: Loss AB: 1.4972835779190063,   Loss Eve: 113.50946044921875\n",
            "Epoch 47: Loss AB: 1.4472317695617676,   Loss Eve: 112.02165222167969\n",
            "Epoch 48: Loss AB: 1.3990063667297363,   Loss Eve: 110.572998046875\n",
            "Epoch 49: Loss AB: 1.3533803224563599,   Loss Eve: 109.18612670898438\n",
            "Epoch 50: Loss AB: 1.3103278875350952,   Loss Eve: 107.84883880615234\n",
            "Epoch 51: Loss AB: 1.2702418565750122,   Loss Eve: 106.56137084960938\n",
            "Epoch 52: Loss AB: 1.233403205871582,   Loss Eve: 105.3249282836914\n",
            "Epoch 53: Loss AB: 1.1992731094360352,   Loss Eve: 104.1410140991211\n",
            "Epoch 54: Loss AB: 1.1672536134719849,   Loss Eve: 103.00711822509766\n",
            "Epoch 55: Loss AB: 1.1341241598129272,   Loss Eve: 101.81012725830078\n",
            "Epoch 56: Loss AB: 1.0961567163467407,   Loss Eve: 100.37889862060547\n",
            "Epoch 57: Loss AB: 1.0549372434616089,   Loss Eve: 98.74840545654297\n",
            "Epoch 58: Loss AB: 1.0169422626495361,   Loss Eve: 97.21350860595703\n",
            "Epoch 59: Loss AB: 0.987510085105896,   Loss Eve: 95.85952758789062\n",
            "Epoch 60: Loss AB: 0.9901847243309021,   Loss Eve: 96.23419189453125\n",
            "Epoch 61: Loss AB: 0.9478011131286621,   Loss Eve: 94.26718139648438\n",
            "Epoch 62: Loss AB: 0.9398882985115051,   Loss Eve: 93.87890625\n",
            "Epoch 63: Loss AB: 0.9000245928764343,   Loss Eve: 91.88786315917969\n",
            "Epoch 64: Loss AB: 0.9035547375679016,   Loss Eve: 92.1924819946289\n",
            "Epoch 65: Loss AB: 0.8769970536231995,   Loss Eve: 90.75965881347656\n",
            "Epoch 66: Loss AB: 0.8653963208198547,   Loss Eve: 90.07734680175781\n",
            "Epoch 67: Loss AB: 0.8618295192718506,   Loss Eve: 89.90312194824219\n",
            "Epoch 68: Loss AB: 0.8451672196388245,   Loss Eve: 89.03668975830078\n",
            "Epoch 69: Loss AB: 0.8323147296905518,   Loss Eve: 88.32173156738281\n",
            "Epoch 70: Loss AB: 0.8288437128067017,   Loss Eve: 88.14111328125\n",
            "Epoch 71: Loss AB: 0.8194826245307922,   Loss Eve: 87.63236999511719\n",
            "Epoch 72: Loss AB: 0.8085198402404785,   Loss Eve: 86.97997283935547\n",
            "Epoch 73: Loss AB: 0.8043167591094971,   Loss Eve: 86.70301818847656\n",
            "Epoch 74: Loss AB: 0.799328088760376,   Loss Eve: 86.41424560546875\n",
            "Epoch 75: Loss AB: 0.7904482483863831,   Loss Eve: 85.93236541748047\n",
            "Epoch 76: Loss AB: 0.7834208607673645,   Loss Eve: 85.56188201904297\n",
            "Epoch 77: Loss AB: 0.7809802293777466,   Loss Eve: 85.4152603149414\n",
            "Epoch 78: Loss AB: 0.7738028764724731,   Loss Eve: 85.00906372070312\n",
            "Epoch 79: Loss AB: 0.7668298482894897,   Loss Eve: 84.59996032714844\n",
            "Epoch 80: Loss AB: 0.7633798122406006,   Loss Eve: 84.37981414794922\n",
            "Epoch 81: Loss AB: 0.7582852244377136,   Loss Eve: 84.08600616455078\n",
            "Epoch 82: Loss AB: 0.7519527673721313,   Loss Eve: 83.73406219482422\n",
            "Epoch 83: Loss AB: 0.7484660148620605,   Loss Eve: 83.53526306152344\n",
            "Epoch 84: Loss AB: 0.7451776266098022,   Loss Eve: 83.33475494384766\n",
            "Epoch 85: Loss AB: 0.7400853037834167,   Loss Eve: 83.01782989501953\n",
            "Epoch 86: Loss AB: 0.7368573546409607,   Loss Eve: 82.80245208740234\n",
            "Epoch 87: Loss AB: 0.7345021963119507,   Loss Eve: 82.6447525024414\n",
            "Epoch 88: Loss AB: 0.7314831614494324,   Loss Eve: 82.45511627197266\n",
            "Epoch 89: Loss AB: 0.7286695837974548,   Loss Eve: 82.28201293945312\n",
            "Epoch 90: Loss AB: 0.7268828749656677,   Loss Eve: 82.17041778564453\n",
            "Epoch 91: Loss AB: 0.7254841327667236,   Loss Eve: 82.07630920410156\n",
            "Epoch 92: Loss AB: 0.7238606810569763,   Loss Eve: 81.96162414550781\n",
            "Epoch 93: Loss AB: 0.7222741842269897,   Loss Eve: 81.84957885742188\n",
            "Epoch 94: Loss AB: 0.7210466265678406,   Loss Eve: 81.76443481445312\n",
            "Epoch 95: Loss AB: 0.7201225757598877,   Loss Eve: 81.70079803466797\n",
            "Epoch 96: Loss AB: 0.7193057537078857,   Loss Eve: 81.6432113647461\n",
            "Epoch 97: Loss AB: 0.7184908390045166,   Loss Eve: 81.58434295654297\n",
            "Epoch 98: Loss AB: 0.7176924347877502,   Loss Eve: 81.52680206298828\n",
            "Epoch 99: Loss AB: 0.7169690728187561,   Loss Eve: 81.47602844238281\n",
            "Epoch 100: Loss AB: 0.7163524627685547,   Loss Eve: 81.43434143066406\n",
            "Epoch 101: Loss AB: 0.7158309817314148,   Loss Eve: 81.39994812011719\n",
            "Epoch 102: Loss AB: 0.7153655886650085,   Loss Eve: 81.36874389648438\n",
            "Epoch 103: Loss AB: 0.7149221301078796,   Loss Eve: 81.33749389648438\n",
            "Epoch 104: Loss AB: 0.7144889831542969,   Loss Eve: 81.30562591552734\n",
            "Epoch 105: Loss AB: 0.7140745520591736,   Loss Eve: 81.27466583251953\n",
            "Epoch 106: Loss AB: 0.7136911153793335,   Loss Eve: 81.24635314941406\n",
            "Epoch 107: Loss AB: 0.7133437991142273,   Loss Eve: 81.2214584350586\n",
            "Epoch 108: Loss AB: 0.7130281329154968,   Loss Eve: 81.19949340820312\n",
            "Epoch 109: Loss AB: 0.7127339839935303,   Loss Eve: 81.17931365966797\n",
            "Epoch 110: Loss AB: 0.7124508023262024,   Loss Eve: 81.1597671508789\n",
            "Epoch 111: Loss AB: 0.7121726870536804,   Loss Eve: 81.14022827148438\n",
            "Epoch 112: Loss AB: 0.7118999361991882,   Loss Eve: 81.12074279785156\n",
            "Epoch 113: Loss AB: 0.7116355299949646,   Loss Eve: 81.10174560546875\n",
            "Epoch 114: Loss AB: 0.7113831043243408,   Loss Eve: 81.08364868164062\n",
            "Epoch 115: Loss AB: 0.7111433148384094,   Loss Eve: 81.0665512084961\n",
            "Epoch 116: Loss AB: 0.7109131813049316,   Loss Eve: 81.05014038085938\n",
            "Epoch 117: Loss AB: 0.7106879949569702,   Loss Eve: 81.03384399414062\n",
            "Epoch 118: Loss AB: 0.7104666829109192,   Loss Eve: 81.01752471923828\n",
            "Epoch 119: Loss AB: 0.7102463245391846,   Loss Eve: 81.00082397460938\n",
            "Epoch 120: Loss AB: 0.7100282907485962,   Loss Eve: 80.98396301269531\n",
            "Epoch 121: Loss AB: 0.7098135352134705,   Loss Eve: 80.96710205078125\n",
            "Epoch 122: Loss AB: 0.7096059918403625,   Loss Eve: 80.95072937011719\n",
            "Epoch 123: Loss AB: 0.7094070315361023,   Loss Eve: 80.93505096435547\n",
            "Epoch 124: Loss AB: 0.7092170715332031,   Loss Eve: 80.92011260986328\n",
            "Epoch 125: Loss AB: 0.7090353965759277,   Loss Eve: 80.90587615966797\n",
            "Epoch 126: Loss AB: 0.7088608741760254,   Loss Eve: 80.89220428466797\n",
            "Epoch 127: Loss AB: 0.7086923122406006,   Loss Eve: 80.87901306152344\n",
            "Epoch 128: Loss AB: 0.7085291147232056,   Loss Eve: 80.86622619628906\n",
            "Epoch 129: Loss AB: 0.7083707451820374,   Loss Eve: 80.8537826538086\n",
            "Epoch 130: Loss AB: 0.7082170844078064,   Loss Eve: 80.84172058105469\n",
            "Epoch 131: Loss AB: 0.7080686688423157,   Loss Eve: 80.83004760742188\n",
            "Epoch 132: Loss AB: 0.7079254388809204,   Loss Eve: 80.81880187988281\n",
            "Epoch 133: Loss AB: 0.7077876925468445,   Loss Eve: 80.80799102783203\n",
            "Epoch 134: Loss AB: 0.707655131816864,   Loss Eve: 80.7976303100586\n",
            "Epoch 135: Loss AB: 0.7075274586677551,   Loss Eve: 80.78768157958984\n",
            "Epoch 136: Loss AB: 0.707404375076294,   Loss Eve: 80.77808380126953\n",
            "Epoch 137: Loss AB: 0.707285463809967,   Loss Eve: 80.76881408691406\n",
            "Epoch 138: Loss AB: 0.7071702480316162,   Loss Eve: 80.75983428955078\n",
            "Epoch 139: Loss AB: 0.7070585489273071,   Loss Eve: 80.75112915039062\n",
            "Epoch 140: Loss AB: 0.7069503664970398,   Loss Eve: 80.74268341064453\n",
            "Epoch 141: Loss AB: 0.7068454623222351,   Loss Eve: 80.73451232910156\n",
            "Epoch 142: Loss AB: 0.7067437171936035,   Loss Eve: 80.72660827636719\n",
            "Epoch 143: Loss AB: 0.7066447734832764,   Loss Eve: 80.7189712524414\n",
            "Epoch 144: Loss AB: 0.7065486907958984,   Loss Eve: 80.71157836914062\n",
            "Epoch 145: Loss AB: 0.7064550518989563,   Loss Eve: 80.70445251464844\n",
            "Epoch 146: Loss AB: 0.7063636779785156,   Loss Eve: 80.69754791259766\n",
            "Epoch 147: Loss AB: 0.7062743306159973,   Loss Eve: 80.69085693359375\n",
            "Epoch 148: Loss AB: 0.7061866521835327,   Loss Eve: 80.68435668945312\n",
            "Epoch 149: Loss AB: 0.7061008214950562,   Loss Eve: 80.67803192138672\n",
            "Epoch 150: Loss AB: 0.7060166001319885,   Loss Eve: 80.67186737060547\n",
            "Epoch 151: Loss AB: 0.7059339284896851,   Loss Eve: 80.66585540771484\n",
            "Epoch 152: Loss AB: 0.7058528661727905,   Loss Eve: 80.66000366210938\n",
            "Epoch 153: Loss AB: 0.7057732939720154,   Loss Eve: 80.65428161621094\n",
            "Epoch 154: Loss AB: 0.7056952118873596,   Loss Eve: 80.64867401123047\n",
            "Epoch 155: Loss AB: 0.7056185007095337,   Loss Eve: 80.64319610595703\n",
            "Epoch 156: Loss AB: 0.7055431604385376,   Loss Eve: 80.63780212402344\n",
            "Epoch 157: Loss AB: 0.7054685950279236,   Loss Eve: 80.63250732421875\n",
            "Epoch 158: Loss AB: 0.7053952217102051,   Loss Eve: 80.6272964477539\n",
            "Epoch 159: Loss AB: 0.7053228616714478,   Loss Eve: 80.62216186523438\n",
            "Epoch 160: Loss AB: 0.7052514553070068,   Loss Eve: 80.61709594726562\n",
            "Epoch 161: Loss AB: 0.7051813006401062,   Loss Eve: 80.61210632324219\n",
            "Epoch 162: Loss AB: 0.7051119208335876,   Loss Eve: 80.6072006225586\n",
            "Epoch 163: Loss AB: 0.705043613910675,   Loss Eve: 80.60235595703125\n",
            "Epoch 164: Loss AB: 0.7049761414527893,   Loss Eve: 80.59757232666016\n",
            "Epoch 165: Loss AB: 0.7049091458320618,   Loss Eve: 80.59282684326172\n",
            "Epoch 166: Loss AB: 0.7048426270484924,   Loss Eve: 80.58814239501953\n",
            "Epoch 167: Loss AB: 0.7047770023345947,   Loss Eve: 80.58348846435547\n",
            "Epoch 168: Loss AB: 0.7047117352485657,   Loss Eve: 80.57889556884766\n",
            "Epoch 169: Loss AB: 0.7046472430229187,   Loss Eve: 80.57434844970703\n",
            "Epoch 170: Loss AB: 0.7045833468437195,   Loss Eve: 80.56985473632812\n",
            "Epoch 171: Loss AB: 0.7045201659202576,   Loss Eve: 80.5654067993164\n",
            "Epoch 172: Loss AB: 0.7044575214385986,   Loss Eve: 80.5610122680664\n",
            "Epoch 173: Loss AB: 0.704395592212677,   Loss Eve: 80.55667114257812\n",
            "Epoch 174: Loss AB: 0.7043341994285583,   Loss Eve: 80.55236053466797\n",
            "Epoch 175: Loss AB: 0.7042734026908875,   Loss Eve: 80.54811096191406\n",
            "Epoch 176: Loss AB: 0.7042133212089539,   Loss Eve: 80.54391479492188\n",
            "Epoch 177: Loss AB: 0.704153835773468,   Loss Eve: 80.53976440429688\n",
            "Epoch 178: Loss AB: 0.7040947675704956,   Loss Eve: 80.53565216064453\n",
            "Epoch 179: Loss AB: 0.7040366530418396,   Loss Eve: 80.5315933227539\n",
            "Epoch 180: Loss AB: 0.703978955745697,   Loss Eve: 80.527587890625\n",
            "Epoch 181: Loss AB: 0.7039220929145813,   Loss Eve: 80.52362823486328\n",
            "Epoch 182: Loss AB: 0.7038658857345581,   Loss Eve: 80.51972961425781\n",
            "Epoch 183: Loss AB: 0.7038106322288513,   Loss Eve: 80.5158920288086\n",
            "Epoch 184: Loss AB: 0.7037560939788818,   Loss Eve: 80.51213073730469\n",
            "Epoch 185: Loss AB: 0.7037023305892944,   Loss Eve: 80.5084228515625\n",
            "Epoch 186: Loss AB: 0.7036495208740234,   Loss Eve: 80.5047836303711\n",
            "Epoch 187: Loss AB: 0.7035975456237793,   Loss Eve: 80.501220703125\n",
            "Epoch 188: Loss AB: 0.7035464644432068,   Loss Eve: 80.49771118164062\n",
            "Epoch 189: Loss AB: 0.7034960389137268,   Loss Eve: 80.49427032470703\n",
            "Epoch 190: Loss AB: 0.7034465074539185,   Loss Eve: 80.49089050292969\n",
            "Epoch 191: Loss AB: 0.703397810459137,   Loss Eve: 80.48757934570312\n",
            "Epoch 192: Loss AB: 0.7033500075340271,   Loss Eve: 80.48434448242188\n",
            "Epoch 193: Loss AB: 0.7033031582832336,   Loss Eve: 80.48117065429688\n",
            "Epoch 194: Loss AB: 0.703257143497467,   Loss Eve: 80.47806549072266\n",
            "Epoch 195: Loss AB: 0.7032120227813721,   Loss Eve: 80.47503662109375\n",
            "Epoch 196: Loss AB: 0.703167736530304,   Loss Eve: 80.4720687866211\n",
            "Epoch 197: Loss AB: 0.7031242251396179,   Loss Eve: 80.46915435791016\n",
            "Epoch 198: Loss AB: 0.703081488609314,   Loss Eve: 80.46631622314453\n",
            "Epoch 199: Loss AB: 0.7030395269393921,   Loss Eve: 80.4635238647461\n",
            "Epoch 200: Loss AB: 0.7029983997344971,   Loss Eve: 80.46080017089844\n",
            "Epoch 201: Loss AB: 0.7029578685760498,   Loss Eve: 80.45813751220703\n",
            "Epoch 202: Loss AB: 0.7029182314872742,   Loss Eve: 80.4555435180664\n",
            "Epoch 203: Loss AB: 0.7028792500495911,   Loss Eve: 80.4530029296875\n",
            "Epoch 204: Loss AB: 0.70284104347229,   Loss Eve: 80.45051574707031\n",
            "Epoch 205: Loss AB: 0.7028034925460815,   Loss Eve: 80.44808197021484\n",
            "Epoch 206: Loss AB: 0.7027667164802551,   Loss Eve: 80.4457015991211\n",
            "Epoch 207: Loss AB: 0.702730655670166,   Loss Eve: 80.44336700439453\n",
            "Epoch 208: Loss AB: 0.7026951313018799,   Loss Eve: 80.44107055664062\n",
            "Epoch 209: Loss AB: 0.7026602029800415,   Loss Eve: 80.43883514404297\n",
            "Epoch 210: Loss AB: 0.7026258707046509,   Loss Eve: 80.43663024902344\n",
            "Epoch 211: Loss AB: 0.7025920748710632,   Loss Eve: 80.43445587158203\n",
            "Epoch 212: Loss AB: 0.7025588154792786,   Loss Eve: 80.43234252929688\n",
            "Epoch 213: Loss AB: 0.7025263905525208,   Loss Eve: 80.4302749633789\n",
            "Epoch 214: Loss AB: 0.7024945020675659,   Loss Eve: 80.42823791503906\n",
            "Epoch 215: Loss AB: 0.7024630904197693,   Loss Eve: 80.42623901367188\n",
            "Epoch 216: Loss AB: 0.7024321556091309,   Loss Eve: 80.42426300048828\n",
            "Epoch 217: Loss AB: 0.7024016380310059,   Loss Eve: 80.4223403930664\n",
            "Epoch 218: Loss AB: 0.7023715972900391,   Loss Eve: 80.4204330444336\n",
            "Epoch 219: Loss AB: 0.7023419737815857,   Loss Eve: 80.4185562133789\n",
            "Epoch 220: Loss AB: 0.7023126482963562,   Loss Eve: 80.41670227050781\n",
            "Epoch 221: Loss AB: 0.7022837996482849,   Loss Eve: 80.41488647460938\n",
            "Epoch 222: Loss AB: 0.7022554278373718,   Loss Eve: 80.41311645507812\n",
            "Epoch 223: Loss AB: 0.7022274732589722,   Loss Eve: 80.4113540649414\n",
            "Epoch 224: Loss AB: 0.7021998763084412,   Loss Eve: 80.40962219238281\n",
            "Epoch 225: Loss AB: 0.7021724581718445,   Loss Eve: 80.40792846679688\n",
            "Epoch 226: Loss AB: 0.7021454572677612,   Loss Eve: 80.40625\n",
            "Epoch 227: Loss AB: 0.7021189332008362,   Loss Eve: 80.40460205078125\n",
            "Epoch 228: Loss AB: 0.7020926475524902,   Loss Eve: 80.40298461914062\n",
            "Epoch 229: Loss AB: 0.7020667195320129,   Loss Eve: 80.4013900756836\n",
            "Epoch 230: Loss AB: 0.7020411491394043,   Loss Eve: 80.39981842041016\n",
            "Epoch 231: Loss AB: 0.7020158171653748,   Loss Eve: 80.39828491210938\n",
            "Epoch 232: Loss AB: 0.7019908428192139,   Loss Eve: 80.3967514038086\n",
            "Epoch 233: Loss AB: 0.7019660472869873,   Loss Eve: 80.39525604248047\n",
            "Epoch 234: Loss AB: 0.7019415497779846,   Loss Eve: 80.3937759399414\n",
            "Epoch 235: Loss AB: 0.7019171714782715,   Loss Eve: 80.39232635498047\n",
            "Epoch 236: Loss AB: 0.701893150806427,   Loss Eve: 80.3908920288086\n",
            "Epoch 237: Loss AB: 0.7018693685531616,   Loss Eve: 80.38946533203125\n",
            "Epoch 238: Loss AB: 0.7018457651138306,   Loss Eve: 80.38807678222656\n",
            "Epoch 239: Loss AB: 0.7018222808837891,   Loss Eve: 80.3866958618164\n",
            "Epoch 240: Loss AB: 0.7017990946769714,   Loss Eve: 80.38534545898438\n",
            "Epoch 241: Loss AB: 0.7017759680747986,   Loss Eve: 80.38400268554688\n",
            "Epoch 242: Loss AB: 0.7017531394958496,   Loss Eve: 80.3826675415039\n",
            "Epoch 243: Loss AB: 0.7017302513122559,   Loss Eve: 80.3813705444336\n",
            "Epoch 244: Loss AB: 0.701707661151886,   Loss Eve: 80.38008117675781\n",
            "Epoch 245: Loss AB: 0.7016853094100952,   Loss Eve: 80.37879943847656\n",
            "Epoch 246: Loss AB: 0.7016629576683044,   Loss Eve: 80.3775405883789\n",
            "Epoch 247: Loss AB: 0.7016407251358032,   Loss Eve: 80.37629699707031\n",
            "Epoch 248: Loss AB: 0.7016183733940125,   Loss Eve: 80.37505340576172\n",
            "Epoch 249: Loss AB: 0.7015961408615112,   Loss Eve: 80.37381744384766\n",
            "Epoch 250: Loss AB: 0.7015739679336548,   Loss Eve: 80.37258911132812\n",
            "Epoch 251: Loss AB: 0.7015516757965088,   Loss Eve: 80.37137603759766\n",
            "Epoch 252: Loss AB: 0.7015294432640076,   Loss Eve: 80.37016296386719\n",
            "Epoch 253: Loss AB: 0.7015072703361511,   Loss Eve: 80.36895751953125\n",
            "Epoch 254: Loss AB: 0.7014848589897156,   Loss Eve: 80.36776733398438\n",
            "Epoch 255: Loss AB: 0.7014625072479248,   Loss Eve: 80.3665542602539\n",
            "Epoch 256: Loss AB: 0.7014399170875549,   Loss Eve: 80.3653564453125\n",
            "Epoch 257: Loss AB: 0.7014172077178955,   Loss Eve: 80.36415100097656\n",
            "Epoch 258: Loss AB: 0.7013944387435913,   Loss Eve: 80.36294555664062\n",
            "Epoch 259: Loss AB: 0.7013715505599976,   Loss Eve: 80.36174774169922\n",
            "Epoch 260: Loss AB: 0.7013484239578247,   Loss Eve: 80.36053466796875\n",
            "Epoch 261: Loss AB: 0.7013251781463623,   Loss Eve: 80.35931396484375\n",
            "Epoch 262: Loss AB: 0.7013017535209656,   Loss Eve: 80.35810852050781\n",
            "Epoch 263: Loss AB: 0.7012780904769897,   Loss Eve: 80.35688018798828\n",
            "Epoch 264: Loss AB: 0.7012541890144348,   Loss Eve: 80.35565185546875\n",
            "Epoch 265: Loss AB: 0.7012299299240112,   Loss Eve: 80.35441589355469\n",
            "Epoch 266: Loss AB: 0.7012056112289429,   Loss Eve: 80.35315704345703\n",
            "Epoch 267: Loss AB: 0.7011809349060059,   Loss Eve: 80.35189819335938\n",
            "Epoch 268: Loss AB: 0.7011560797691345,   Loss Eve: 80.35061645507812\n",
            "Epoch 269: Loss AB: 0.7011309266090393,   Loss Eve: 80.34932708740234\n",
            "Epoch 270: Loss AB: 0.7011056542396545,   Loss Eve: 80.34803009033203\n",
            "Epoch 271: Loss AB: 0.7010800838470459,   Loss Eve: 80.34671783447266\n",
            "Epoch 272: Loss AB: 0.7010542154312134,   Loss Eve: 80.34538269042969\n",
            "Epoch 273: Loss AB: 0.7010279893875122,   Loss Eve: 80.34403228759766\n",
            "Epoch 274: Loss AB: 0.7010016441345215,   Loss Eve: 80.3426742553711\n",
            "Epoch 275: Loss AB: 0.7009749412536621,   Loss Eve: 80.3412857055664\n",
            "Epoch 276: Loss AB: 0.7009479999542236,   Loss Eve: 80.33987426757812\n",
            "Epoch 277: Loss AB: 0.700920820236206,   Loss Eve: 80.33845520019531\n",
            "Epoch 278: Loss AB: 0.7008934617042542,   Loss Eve: 80.33699798583984\n",
            "Epoch 279: Loss AB: 0.7008659243583679,   Loss Eve: 80.33552551269531\n",
            "Epoch 280: Loss AB: 0.7008379101753235,   Loss Eve: 80.33403015136719\n",
            "Epoch 281: Loss AB: 0.7008099555969238,   Loss Eve: 80.33251190185547\n",
            "Epoch 282: Loss AB: 0.7007817625999451,   Loss Eve: 80.33096313476562\n",
            "Epoch 283: Loss AB: 0.7007533311843872,   Loss Eve: 80.32939147949219\n",
            "Epoch 284: Loss AB: 0.7007247805595398,   Loss Eve: 80.32778930664062\n",
            "Epoch 285: Loss AB: 0.7006961107254028,   Loss Eve: 80.326171875\n",
            "Epoch 286: Loss AB: 0.7006673216819763,   Loss Eve: 80.32452392578125\n",
            "Epoch 287: Loss AB: 0.7006385326385498,   Loss Eve: 80.3228530883789\n",
            "Epoch 288: Loss AB: 0.7006095051765442,   Loss Eve: 80.32117462158203\n",
            "Epoch 289: Loss AB: 0.7005805969238281,   Loss Eve: 80.31945037841797\n",
            "Epoch 290: Loss AB: 0.7005518078804016,   Loss Eve: 80.31771850585938\n",
            "Epoch 291: Loss AB: 0.7005228996276855,   Loss Eve: 80.31596374511719\n",
            "Epoch 292: Loss AB: 0.7004942297935486,   Loss Eve: 80.3141860961914\n",
            "Epoch 293: Loss AB: 0.7004654407501221,   Loss Eve: 80.31240844726562\n",
            "Epoch 294: Loss AB: 0.7004369497299194,   Loss Eve: 80.31060791015625\n",
            "Epoch 295: Loss AB: 0.7004084587097168,   Loss Eve: 80.30879211425781\n",
            "Epoch 296: Loss AB: 0.7003801465034485,   Loss Eve: 80.30696868896484\n",
            "Epoch 297: Loss AB: 0.7003520727157593,   Loss Eve: 80.30513763427734\n",
            "Epoch 298: Loss AB: 0.700324296951294,   Loss Eve: 80.30329895019531\n",
            "Epoch 299: Loss AB: 0.7002967000007629,   Loss Eve: 80.30147552490234\n",
            "Epoch 300: Loss AB: 0.7002694606781006,   Loss Eve: 80.29964447021484\n",
            "Epoch 301: Loss AB: 0.7002424597740173,   Loss Eve: 80.29780578613281\n",
            "Epoch 302: Loss AB: 0.7002158164978027,   Loss Eve: 80.2959976196289\n",
            "Epoch 303: Loss AB: 0.7001895904541016,   Loss Eve: 80.29418182373047\n",
            "Epoch 304: Loss AB: 0.700163722038269,   Loss Eve: 80.29239654541016\n",
            "Epoch 305: Loss AB: 0.70013827085495,   Loss Eve: 80.29061889648438\n",
            "Epoch 306: Loss AB: 0.7001132369041443,   Loss Eve: 80.28886413574219\n",
            "Epoch 307: Loss AB: 0.7000887393951416,   Loss Eve: 80.2871322631836\n",
            "Epoch 308: Loss AB: 0.700064480304718,   Loss Eve: 80.2854232788086\n",
            "Epoch 309: Loss AB: 0.7000409960746765,   Loss Eve: 80.28373718261719\n",
            "Epoch 310: Loss AB: 0.7000178694725037,   Loss Eve: 80.28208923339844\n",
            "Epoch 311: Loss AB: 0.6999952793121338,   Loss Eve: 80.28045654296875\n",
            "Epoch 312: Loss AB: 0.6999732851982117,   Loss Eve: 80.27886962890625\n",
            "Epoch 313: Loss AB: 0.6999516487121582,   Loss Eve: 80.27729797363281\n",
            "Epoch 314: Loss AB: 0.6999305486679077,   Loss Eve: 80.27578735351562\n",
            "Epoch 315: Loss AB: 0.699910044670105,   Loss Eve: 80.27428436279297\n",
            "Epoch 316: Loss AB: 0.6998899579048157,   Loss Eve: 80.27283477783203\n",
            "Epoch 317: Loss AB: 0.6998703479766846,   Loss Eve: 80.27140808105469\n",
            "Epoch 318: Loss AB: 0.6998514533042908,   Loss Eve: 80.27001953125\n",
            "Epoch 319: Loss AB: 0.6998328566551208,   Loss Eve: 80.26866149902344\n",
            "Epoch 320: Loss AB: 0.6998147368431091,   Loss Eve: 80.26734161376953\n",
            "Epoch 321: Loss AB: 0.6997969746589661,   Loss Eve: 80.26605987548828\n",
            "Epoch 322: Loss AB: 0.6997798085212708,   Loss Eve: 80.26480102539062\n",
            "Epoch 323: Loss AB: 0.6997630596160889,   Loss Eve: 80.26358032226562\n",
            "Epoch 324: Loss AB: 0.6997467279434204,   Loss Eve: 80.26239013671875\n",
            "Epoch 325: Loss AB: 0.6997306942939758,   Loss Eve: 80.26123809814453\n",
            "Epoch 326: Loss AB: 0.6997151970863342,   Loss Eve: 80.26010131835938\n",
            "Epoch 327: Loss AB: 0.6996999382972717,   Loss Eve: 80.2590103149414\n",
            "Epoch 328: Loss AB: 0.6996851563453674,   Loss Eve: 80.25794219970703\n",
            "Epoch 329: Loss AB: 0.6996705532073975,   Loss Eve: 80.25689697265625\n",
            "Epoch 330: Loss AB: 0.6996564269065857,   Loss Eve: 80.25586700439453\n",
            "Epoch 331: Loss AB: 0.6996426582336426,   Loss Eve: 80.25487518310547\n",
            "Epoch 332: Loss AB: 0.6996291279792786,   Loss Eve: 80.25391387939453\n",
            "Epoch 333: Loss AB: 0.6996158361434937,   Loss Eve: 80.25296783447266\n",
            "Epoch 334: Loss AB: 0.6996030211448669,   Loss Eve: 80.25204467773438\n",
            "Epoch 335: Loss AB: 0.6995903253555298,   Loss Eve: 80.25113677978516\n",
            "Epoch 336: Loss AB: 0.6995779275894165,   Loss Eve: 80.25025177001953\n",
            "Epoch 337: Loss AB: 0.6995657086372375,   Loss Eve: 80.24938201904297\n",
            "Epoch 338: Loss AB: 0.6995538473129272,   Loss Eve: 80.24854278564453\n",
            "Epoch 339: Loss AB: 0.6995421648025513,   Loss Eve: 80.24771118164062\n",
            "Epoch 340: Loss AB: 0.6995307803153992,   Loss Eve: 80.24691772460938\n",
            "Epoch 341: Loss AB: 0.6995195150375366,   Loss Eve: 80.24610900878906\n",
            "Epoch 342: Loss AB: 0.6995084881782532,   Loss Eve: 80.2453384399414\n",
            "Epoch 343: Loss AB: 0.6994977593421936,   Loss Eve: 80.24458312988281\n",
            "Epoch 344: Loss AB: 0.6994870901107788,   Loss Eve: 80.24382781982422\n",
            "Epoch 345: Loss AB: 0.6994767189025879,   Loss Eve: 80.24310302734375\n",
            "Epoch 346: Loss AB: 0.6994664669036865,   Loss Eve: 80.24238586425781\n",
            "Epoch 347: Loss AB: 0.6994564533233643,   Loss Eve: 80.2416763305664\n",
            "Epoch 348: Loss AB: 0.6994466185569763,   Loss Eve: 80.2409896850586\n",
            "Epoch 349: Loss AB: 0.6994369626045227,   Loss Eve: 80.24031829833984\n",
            "Epoch 350: Loss AB: 0.6994273662567139,   Loss Eve: 80.2396469116211\n",
            "Epoch 351: Loss AB: 0.6994179487228394,   Loss Eve: 80.23898315429688\n",
            "Epoch 352: Loss AB: 0.699408769607544,   Loss Eve: 80.23835754394531\n",
            "Epoch 353: Loss AB: 0.6993997097015381,   Loss Eve: 80.23771667480469\n",
            "Epoch 354: Loss AB: 0.6993907690048218,   Loss Eve: 80.23709106445312\n",
            "Epoch 355: Loss AB: 0.699381947517395,   Loss Eve: 80.23648071289062\n",
            "Epoch 356: Loss AB: 0.6993733048439026,   Loss Eve: 80.23587799072266\n",
            "Epoch 357: Loss AB: 0.6993647813796997,   Loss Eve: 80.23529052734375\n",
            "Epoch 358: Loss AB: 0.6993563771247864,   Loss Eve: 80.23471069335938\n",
            "Epoch 359: Loss AB: 0.6993481516838074,   Loss Eve: 80.234130859375\n",
            "Epoch 360: Loss AB: 0.6993400454521179,   Loss Eve: 80.23356628417969\n",
            "Epoch 361: Loss AB: 0.6993319988250732,   Loss Eve: 80.23301696777344\n",
            "Epoch 362: Loss AB: 0.6993240118026733,   Loss Eve: 80.23246765136719\n",
            "Epoch 363: Loss AB: 0.6993162631988525,   Loss Eve: 80.23192596435547\n",
            "Epoch 364: Loss AB: 0.6993085741996765,   Loss Eve: 80.23139953613281\n",
            "Epoch 365: Loss AB: 0.69930100440979,   Loss Eve: 80.23087310791016\n",
            "Epoch 366: Loss AB: 0.6992934942245483,   Loss Eve: 80.23036193847656\n",
            "Epoch 367: Loss AB: 0.6992862224578857,   Loss Eve: 80.22985076904297\n",
            "Epoch 368: Loss AB: 0.6992788910865784,   Loss Eve: 80.22933959960938\n",
            "Epoch 369: Loss AB: 0.6992716789245605,   Loss Eve: 80.22885131835938\n",
            "Epoch 370: Loss AB: 0.6992645263671875,   Loss Eve: 80.2283706665039\n",
            "Epoch 371: Loss AB: 0.6992576122283936,   Loss Eve: 80.22787475585938\n",
            "Epoch 372: Loss AB: 0.6992506980895996,   Loss Eve: 80.22740173339844\n",
            "Epoch 373: Loss AB: 0.6992438435554504,   Loss Eve: 80.22693634033203\n",
            "Epoch 374: Loss AB: 0.6992372274398804,   Loss Eve: 80.22648620605469\n",
            "Epoch 375: Loss AB: 0.6992304921150208,   Loss Eve: 80.22601318359375\n",
            "Epoch 376: Loss AB: 0.6992239952087402,   Loss Eve: 80.22555541992188\n",
            "Epoch 377: Loss AB: 0.6992175579071045,   Loss Eve: 80.22512817382812\n",
            "Epoch 378: Loss AB: 0.6992111206054688,   Loss Eve: 80.22468566894531\n",
            "Epoch 379: Loss AB: 0.6992048025131226,   Loss Eve: 80.22423553466797\n",
            "Epoch 380: Loss AB: 0.6991984844207764,   Loss Eve: 80.22381591796875\n",
            "Epoch 381: Loss AB: 0.6991922855377197,   Loss Eve: 80.22338104248047\n",
            "Epoch 382: Loss AB: 0.6991861462593079,   Loss Eve: 80.22296142578125\n",
            "Epoch 383: Loss AB: 0.6991801261901855,   Loss Eve: 80.22254943847656\n",
            "Epoch 384: Loss AB: 0.6991741061210632,   Loss Eve: 80.22213745117188\n",
            "Epoch 385: Loss AB: 0.6991682648658752,   Loss Eve: 80.22172546386719\n",
            "Epoch 386: Loss AB: 0.6991623044013977,   Loss Eve: 80.22132110595703\n",
            "Epoch 387: Loss AB: 0.6991565227508545,   Loss Eve: 80.22091674804688\n",
            "Epoch 388: Loss AB: 0.699150800704956,   Loss Eve: 80.22052001953125\n",
            "Epoch 389: Loss AB: 0.6991449594497681,   Loss Eve: 80.2201156616211\n",
            "Epoch 390: Loss AB: 0.6991394758224487,   Loss Eve: 80.2197265625\n",
            "Epoch 391: Loss AB: 0.6991338133811951,   Loss Eve: 80.21932983398438\n",
            "Epoch 392: Loss AB: 0.6991283893585205,   Loss Eve: 80.21893310546875\n",
            "Epoch 393: Loss AB: 0.6991227865219116,   Loss Eve: 80.21853637695312\n",
            "Epoch 394: Loss AB: 0.6991173028945923,   Loss Eve: 80.21815490722656\n",
            "Epoch 395: Loss AB: 0.6991117596626282,   Loss Eve: 80.2177505493164\n",
            "Epoch 396: Loss AB: 0.6991063952445984,   Loss Eve: 80.21736145019531\n",
            "Epoch 397: Loss AB: 0.6991009712219238,   Loss Eve: 80.21694946289062\n",
            "Epoch 398: Loss AB: 0.6990955471992493,   Loss Eve: 80.21654510498047\n",
            "Epoch 399: Loss AB: 0.6990900635719299,   Loss Eve: 80.21611022949219\n",
            "Epoch 400: Loss AB: 0.699084460735321,   Loss Eve: 80.21568298339844\n",
            "Epoch 401: Loss AB: 0.6990789175033569,   Loss Eve: 80.2152328491211\n",
            "Epoch 402: Loss AB: 0.6990731954574585,   Loss Eve: 80.21475219726562\n",
            "Epoch 403: Loss AB: 0.6990672945976257,   Loss Eve: 80.21424865722656\n",
            "Epoch 404: Loss AB: 0.6990612745285034,   Loss Eve: 80.21369934082031\n",
            "Epoch 405: Loss AB: 0.699055016040802,   Loss Eve: 80.21312713623047\n",
            "Epoch 406: Loss AB: 0.6990484595298767,   Loss Eve: 80.21248626708984\n",
            "Epoch 407: Loss AB: 0.6990415453910828,   Loss Eve: 80.21180725097656\n",
            "Epoch 408: Loss AB: 0.6990342736244202,   Loss Eve: 80.21107482910156\n",
            "Epoch 409: Loss AB: 0.6990267038345337,   Loss Eve: 80.21031188964844\n",
            "Epoch 410: Loss AB: 0.6990187168121338,   Loss Eve: 80.20950317382812\n",
            "Epoch 411: Loss AB: 0.6990098357200623,   Loss Eve: 80.20864868164062\n",
            "Epoch 412: Loss AB: 0.6989998817443848,   Loss Eve: 80.20767211914062\n",
            "Epoch 413: Loss AB: 0.6989877223968506,   Loss Eve: 80.2065200805664\n",
            "Epoch 414: Loss AB: 0.6989728808403015,   Loss Eve: 80.20507049560547\n",
            "Epoch 415: Loss AB: 0.6989539265632629,   Loss Eve: 80.20316314697266\n",
            "Epoch 416: Loss AB: 0.6989299058914185,   Loss Eve: 80.20066833496094\n",
            "Epoch 417: Loss AB: 0.6988988518714905,   Loss Eve: 80.1973876953125\n",
            "Epoch 418: Loss AB: 0.6988587975502014,   Loss Eve: 80.1931381225586\n",
            "Epoch 419: Loss AB: 0.6988064050674438,   Loss Eve: 80.18775177001953\n",
            "Epoch 420: Loss AB: 0.6987350583076477,   Loss Eve: 80.18085479736328\n",
            "Epoch 421: Loss AB: 0.6986179351806641,   Loss Eve: 80.16963195800781\n",
            "Epoch 422: Loss AB: 0.698228120803833,   Loss Eve: 80.12796020507812\n",
            "Epoch 423: Loss AB: 0.6961925029754639,   Loss Eve: 79.91000366210938\n",
            "Epoch 424: Loss AB: 0.6867709159851074,   Loss Eve: 79.06027221679688\n",
            "Epoch 425: Loss AB: 0.6528988480567932,   Loss Eve: 76.39336395263672\n",
            "Epoch 426: Loss AB: 0.6206289529800415,   Loss Eve: 74.49964141845703\n",
            "Epoch 427: Loss AB: 0.5995462536811829,   Loss Eve: 71.45195770263672\n",
            "Epoch 428: Loss AB: 0.5686488747596741,   Loss Eve: 69.55970001220703\n",
            "Epoch 429: Loss AB: 0.5479855537414551,   Loss Eve: 67.50684356689453\n",
            "Epoch 430: Loss AB: 0.5235043168067932,   Loss Eve: 65.80447387695312\n",
            "Epoch 431: Loss AB: 0.5198530554771423,   Loss Eve: 65.27693939208984\n",
            "Epoch 432: Loss AB: 0.5224835276603699,   Loss Eve: 65.51834106445312\n",
            "Epoch 433: Loss AB: 0.5197833180427551,   Loss Eve: 65.1148910522461\n",
            "Epoch 434: Loss AB: 0.5157352685928345,   Loss Eve: 64.78024291992188\n",
            "Epoch 435: Loss AB: 0.5144852995872498,   Loss Eve: 64.69709777832031\n",
            "Epoch 436: Loss AB: 0.5142104625701904,   Loss Eve: 64.68289947509766\n",
            "Epoch 437: Loss AB: 0.5141458511352539,   Loss Eve: 64.7015609741211\n",
            "Epoch 438: Loss AB: 0.5141679644584656,   Loss Eve: 64.7494125366211\n",
            "Epoch 439: Loss AB: 0.5141991972923279,   Loss Eve: 64.78478240966797\n",
            "Epoch 440: Loss AB: 0.5141628980636597,   Loss Eve: 64.75980377197266\n",
            "Epoch 441: Loss AB: 0.5141052007675171,   Loss Eve: 64.71597290039062\n",
            "Epoch 442: Loss AB: 0.5140095353126526,   Loss Eve: 64.69928741455078\n",
            "Epoch 443: Loss AB: 0.513832151889801,   Loss Eve: 64.71451568603516\n",
            "Epoch 444: Loss AB: 0.5136446356773376,   Loss Eve: 64.74981689453125\n",
            "Epoch 445: Loss AB: 0.5135118961334229,   Loss Eve: 64.77115631103516\n",
            "Epoch 446: Loss AB: 0.5133605003356934,   Loss Eve: 64.740966796875\n",
            "Epoch 447: Loss AB: 0.5131877064704895,   Loss Eve: 64.6806869506836\n",
            "Epoch 448: Loss AB: 0.5130581855773926,   Loss Eve: 64.6321792602539\n",
            "Epoch 449: Loss AB: 0.5129543542861938,   Loss Eve: 64.60423278808594\n",
            "Epoch 450: Loss AB: 0.5128557682037354,   Loss Eve: 64.58796691894531\n",
            "Epoch 451: Loss AB: 0.5127602219581604,   Loss Eve: 64.57626342773438\n",
            "Epoch 452: Loss AB: 0.5126685500144958,   Loss Eve: 64.56637573242188\n",
            "Epoch 453: Loss AB: 0.5125810503959656,   Loss Eve: 64.5572738647461\n",
            "Epoch 454: Loss AB: 0.5124980807304382,   Loss Eve: 64.5486068725586\n",
            "Epoch 455: Loss AB: 0.512419581413269,   Loss Eve: 64.54027557373047\n",
            "Epoch 456: Loss AB: 0.512346088886261,   Loss Eve: 64.53226470947266\n",
            "Epoch 457: Loss AB: 0.5122773051261902,   Loss Eve: 64.52459716796875\n",
            "Epoch 458: Loss AB: 0.5122136473655701,   Loss Eve: 64.51732635498047\n",
            "Epoch 459: Loss AB: 0.5121550559997559,   Loss Eve: 64.51054382324219\n",
            "Epoch 460: Loss AB: 0.5121013522148132,   Loss Eve: 64.50428009033203\n",
            "Epoch 461: Loss AB: 0.512052595615387,   Loss Eve: 64.4986343383789\n",
            "Epoch 462: Loss AB: 0.5120090246200562,   Loss Eve: 64.49364471435547\n",
            "Epoch 463: Loss AB: 0.5119704604148865,   Loss Eve: 64.48934173583984\n",
            "Epoch 464: Loss AB: 0.5119366645812988,   Loss Eve: 64.48567199707031\n",
            "Epoch 465: Loss AB: 0.5119069814682007,   Loss Eve: 64.48260498046875\n",
            "Epoch 466: Loss AB: 0.5118811130523682,   Loss Eve: 64.48005676269531\n",
            "Epoch 467: Loss AB: 0.5118587017059326,   Loss Eve: 64.47789764404297\n",
            "Epoch 468: Loss AB: 0.5118392705917358,   Loss Eve: 64.47603607177734\n",
            "Epoch 469: Loss AB: 0.5118222236633301,   Loss Eve: 64.4743423461914\n",
            "Epoch 470: Loss AB: 0.5118072032928467,   Loss Eve: 64.47273254394531\n",
            "Epoch 471: Loss AB: 0.5117937326431274,   Loss Eve: 64.47114562988281\n",
            "Epoch 472: Loss AB: 0.5117813348770142,   Loss Eve: 64.46952819824219\n",
            "Epoch 473: Loss AB: 0.5117698907852173,   Loss Eve: 64.46786499023438\n",
            "Epoch 474: Loss AB: 0.5117592215538025,   Loss Eve: 64.46612548828125\n",
            "Epoch 475: Loss AB: 0.5117490291595459,   Loss Eve: 64.46432495117188\n",
            "Epoch 476: Loss AB: 0.511739194393158,   Loss Eve: 64.46244812011719\n",
            "Epoch 477: Loss AB: 0.5117298364639282,   Loss Eve: 64.46050262451172\n",
            "Epoch 478: Loss AB: 0.511720597743988,   Loss Eve: 64.4585189819336\n",
            "Epoch 479: Loss AB: 0.5117116570472717,   Loss Eve: 64.45648193359375\n",
            "Epoch 480: Loss AB: 0.5117028951644897,   Loss Eve: 64.45446014404297\n",
            "Epoch 481: Loss AB: 0.5116944313049316,   Loss Eve: 64.45245361328125\n",
            "Epoch 482: Loss AB: 0.511686384677887,   Loss Eve: 64.45050811767578\n",
            "Epoch 483: Loss AB: 0.5116786360740662,   Loss Eve: 64.44863891601562\n",
            "Epoch 484: Loss AB: 0.5116713047027588,   Loss Eve: 64.44689178466797\n",
            "Epoch 485: Loss AB: 0.5116644501686096,   Loss Eve: 64.44525146484375\n",
            "Epoch 486: Loss AB: 0.5116580724716187,   Loss Eve: 64.4437484741211\n",
            "Epoch 487: Loss AB: 0.5116521716117859,   Loss Eve: 64.4423828125\n",
            "Epoch 488: Loss AB: 0.5116466879844666,   Loss Eve: 64.4411392211914\n",
            "Epoch 489: Loss AB: 0.5116415619850159,   Loss Eve: 64.44000244140625\n",
            "Epoch 490: Loss AB: 0.5116369128227234,   Loss Eve: 64.43895721435547\n",
            "Epoch 491: Loss AB: 0.5116325616836548,   Loss Eve: 64.43800354003906\n",
            "Epoch 492: Loss AB: 0.5116284489631653,   Loss Eve: 64.4371109008789\n",
            "Epoch 493: Loss AB: 0.5116245746612549,   Loss Eve: 64.43628692626953\n",
            "Epoch 494: Loss AB: 0.5116209983825684,   Loss Eve: 64.43550872802734\n",
            "Epoch 495: Loss AB: 0.5116175413131714,   Loss Eve: 64.43477630615234\n",
            "Epoch 496: Loss AB: 0.511614203453064,   Loss Eve: 64.4340591430664\n",
            "Epoch 497: Loss AB: 0.5116111040115356,   Loss Eve: 64.43339538574219\n",
            "Epoch 498: Loss AB: 0.5116080641746521,   Loss Eve: 64.4327621459961\n",
            "Epoch 499: Loss AB: 0.5116051435470581,   Loss Eve: 64.43213653564453\n",
            "Epoch 500: Loss AB: 0.5116023421287537,   Loss Eve: 64.4315414428711\n"
          ]
        }
      ],
      "source": [
        "num_epochs = 500\n",
        "\n",
        "train_losses_ab_list = []\n",
        "train_losses_e_lstm_list = []\n",
        "train_losses_e_cnn_lstm_list = []\n",
        "test_losses_ab_list = []\n",
        "test_losses_e_cnn_lstm_list = []\n",
        "\n",
        "for epoch in range(num_epochs):\n",
        "    with tf.GradientTape() as tape_ab:\n",
        "        combined_input = tf.concat([train_messages, train_keys], axis=-1)\n",
        "        ciphertext = alice(combined_input)\n",
        "\n",
        "        decrypted_input = tf.concat([ciphertext, train_keys], axis=-1)\n",
        "        decrypted_messages = bob(decrypted_input)\n",
        "\n",
        "        loss_ab = combined_loss_function(train_messages, decrypted_messages, eve_cnn_lstm(ciphertext))\n",
        "\n",
        "    gradients_ab = tape_ab.gradient(loss_ab, alice.trainable_variables + bob.trainable_variables)\n",
        "    optimizer_ab.apply_gradients(zip(gradients_ab, alice.trainable_variables + bob.trainable_variables))\n",
        "\n",
        "    with tf.GradientTape() as tape_e_cnn_lstm:\n",
        "\n",
        "        guessed_messages_cnn_lstm = eve_cnn_lstm(ciphertext)\n",
        "\n",
        "        loss_e_cnn_lstm = attacker_loss(train_messages, guessed_messages_cnn_lstm)\n",
        "\n",
        "    gradients_e_cnn_lstm = tape_e_cnn_lstm.gradient(loss_e_cnn_lstm, eve_cnn_lstm.trainable_variables)\n",
        "\n",
        "    optimizer_e_cnn_lstm.apply_gradients(zip(gradients_e_cnn_lstm, eve_cnn_lstm.trainable_variables))\n",
        "\n",
        "    train_losses_ab_list.append(loss_ab.numpy())\n",
        "    train_losses_e_cnn_lstm_list.append(loss_e_cnn_lstm.numpy())\n",
        "\n",
        "    test_ciphertext = alice(tf.concat([test_messages, test_keys], axis=-1))\n",
        "    test_decrypted_messages = bob(tf.concat([test_ciphertext, test_keys], axis=-1))\n",
        "    test_guessed_messages_cnn_lstm = eve_cnn_lstm(test_ciphertext)\n",
        "\n",
        "    test_loss_ab = combined_loss_function(test_messages, test_decrypted_messages, test_guessed_messages_cnn_lstm)\n",
        "    test_loss_e_cnn_lstm = attacker_loss(test_messages, test_guessed_messages_cnn_lstm)\n",
        "\n",
        "    test_losses_ab_list.append(test_loss_ab.numpy())\n",
        "    test_losses_e_cnn_lstm_list.append(test_loss_e_cnn_lstm.numpy())\n",
        "\n",
        "    print(f\"Epoch {epoch + 1}: \"\n",
        "          f\"Loss AB: {test_loss_ab.numpy()},   Loss Eve: {test_loss_e_cnn_lstm.numpy()}\")"
      ]
    },
    {
      "cell_type": "markdown",
      "metadata": {
        "id": "JU4a4qyTu4mp"
      },
      "source": [
        "# Plotting"
      ]
    },
    {
      "cell_type": "code",
      "execution_count": null,
      "metadata": {
        "id": "B8_JZiw7u6pA",
        "colab": {
          "base_uri": "https://localhost:8080/",
          "height": 497
        },
        "outputId": "d253f00d-43df-4213-ecd6-47f25f5c8569"
      },
      "outputs": [
        {
          "output_type": "display_data",
          "data": {
            "text/plain": [
              "<Figure size 900x900 with 1 Axes>"
            ],
            "image/png": "[encoded data removed]"
          },
          "metadata": {}
        }
      ],
      "source": [
        "plt.figure(figsize=(9, 9))\n",
        "\n",
        "plt.subplot(2, 2, 1)\n",
        "plt.plot(test_losses_ab_list, label='Bob Loss')\n",
        "plt.plot(test_losses_e_cnn_lstm_list, label='Eve CNN+LSTM Loss')\n",
        "plt.xlabel('Epochs')\n",
        "plt.ylabel('Loss')\n",
        "plt.title('Bit-Loss Graph')\n",
        "plt.legend()\n",
        "\n",
        "plt.tight_layout()\n",
        "plt.show()"
      ]
    }
  ],
  "metadata": {
    "accelerator": "GPU",
    "colab": {
      "gpuType": "T4",
      "provenance": [],
      "include_colab_link": true
    },
    "kernelspec": {
      "display_name": "Python 3",
      "name": "python3"
    },
    "language_info": {
      "name": "python"
    }
  },
  "nbformat": 4,
  "nbformat_minor": 0
}